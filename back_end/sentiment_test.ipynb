{
 "cells": [
  {
   "cell_type": "code",
   "execution_count": 50,
   "metadata": {},
   "outputs": [],
   "source": [
    "from textblob import TextBlob\n",
    "from search import SearchEngine\n",
    "from article import ArticleParser\n",
    "from datetime import datetime, timedelta\n",
    "from xml.etree.ElementTree import ElementTree, fromstring\n",
    "import requests\n",
    "import numpy"
   ]
  },
  {
   "cell_type": "code",
   "execution_count": 26,
   "metadata": {},
   "outputs": [],
   "source": [
    "def generate_search_urls(\n",
    "    search_term: str,\n",
    "    start: datetime,\n",
    "    end: datetime) -> list[str]:\n",
    "    \"\"\"\n",
    "    Generates a search URL for the given search term and start and end date\n",
    "    Used for sentiment analysis over time\n",
    "    \"\"\"\n",
    "    if start and not end:\n",
    "        # no to date, default to a timeframe of 10 days\n",
    "        end = start + timedelta(days=10)\n",
    "    elif end and not start:\n",
    "        # no from date, default to a timeframe of 10 days\n",
    "        start = end - timedelta(days=10)\n",
    "    elif not end and not start:\n",
    "        # neither exist, default to a timeframe of the past 10 days\n",
    "        end = datetime.today()\n",
    "        start = end - timedelta(days=10)\n",
    "\n",
    "    delta = end - start\n",
    "\n",
    "    # for every day in the range, generate a search URL for the same topic\n",
    "\n",
    "    # specifying \"pointers\" to the start and end date\n",
    "    from_date = start\n",
    "    to_date = start + timedelta(days=1)\n",
    "\n",
    "    urls = []\n",
    "\n",
    "    for _ in range(delta.days):\n",
    "        time_filter = f'after:{from_date.strftime(\"%Y-%m-%d\")} before:{to_date.strftime(\"%Y-%m-%d\")}'\n",
    "        urls.append(f'https://news.google.com/rss/search?q={search_term}+{time_filter}&hl=en-GB&gl=GB&ceid=GB:en')\n",
    "        from_date = to_date\n",
    "        to_date = to_date + timedelta(days=1)\n",
    "\n",
    "    return urls"
   ]
  },
  {
   "cell_type": "code",
   "execution_count": 28,
   "metadata": {},
   "outputs": [],
   "source": [
    "urls = generate_search_urls(\"balls\", datetime.today() - timedelta(days=20), datetime.today())"
   ]
  },
  {
   "cell_type": "code",
   "execution_count": 45,
   "metadata": {},
   "outputs": [],
   "source": [
    "def get_x_news(\n",
    "    urls: list[str],\n",
    "    items: int) -> list[list[ArticleParser]]:\n",
    "    \"\"\"\n",
    "    Searches Google News for the given search term, and returns the number of news items specified. \n",
    "    \"\"\"\n",
    "    articles = []\n",
    "    for i in range(0, len(urls)):\n",
    "        response = requests.get(urls[i])\n",
    "        root = fromstring(response.text)\n",
    "        news_items = []\n",
    "        all_items = root.findall('.//channel/item')\n",
    "        for j in range(items):\n",
    "            article = ArticleParser(all_items[j])\n",
    "            news_items.append(article)\n",
    "        articles.append(news_items)\n",
    "    return articles"
   ]
  },
  {
   "cell_type": "code",
   "execution_count": 46,
   "metadata": {},
   "outputs": [],
   "source": [
    "articles = get_x_news(urls, 5)"
   ]
  },
  {
   "cell_type": "code",
   "execution_count": 47,
   "metadata": {},
   "outputs": [
    {
     "data": {
      "text/plain": [
       "[[<article.ArticleParser at 0x144674950>,\n",
       "  <article.ArticleParser at 0x1445164d0>,\n",
       "  <article.ArticleParser at 0x144798250>,\n",
       "  <article.ArticleParser at 0x144798590>,\n",
       "  <article.ArticleParser at 0x144799e90>],\n",
       " [<article.ArticleParser at 0x1447de990>,\n",
       "  <article.ArticleParser at 0x1447dead0>,\n",
       "  <article.ArticleParser at 0x144775990>,\n",
       "  <article.ArticleParser at 0x144602590>,\n",
       "  <article.ArticleParser at 0x1447eda10>],\n",
       " [<article.ArticleParser at 0x14476da90>,\n",
       "  <article.ArticleParser at 0x144674090>,\n",
       "  <article.ArticleParser at 0x1447c5a90>,\n",
       "  <article.ArticleParser at 0x1447c6010>,\n",
       "  <article.ArticleParser at 0x1447c75d0>],\n",
       " [<article.ArticleParser at 0x1445e0bd0>,\n",
       "  <article.ArticleParser at 0x1445e3210>,\n",
       "  <article.ArticleParser at 0x1447beb10>,\n",
       "  <article.ArticleParser at 0x1447bec90>,\n",
       "  <article.ArticleParser at 0x1447be750>],\n",
       " [<article.ArticleParser at 0x144655e90>,\n",
       "  <article.ArticleParser at 0x14476fb50>,\n",
       "  <article.ArticleParser at 0x144601dd0>,\n",
       "  <article.ArticleParser at 0x144600050>,\n",
       "  <article.ArticleParser at 0x144603d90>],\n",
       " [<article.ArticleParser at 0x144764350>,\n",
       "  <article.ArticleParser at 0x144765a50>,\n",
       "  <article.ArticleParser at 0x1447645d0>,\n",
       "  <article.ArticleParser at 0x144765c10>,\n",
       "  <article.ArticleParser at 0x144766950>],\n",
       " [<article.ArticleParser at 0x1445ea190>,\n",
       "  <article.ArticleParser at 0x144522b10>,\n",
       "  <article.ArticleParser at 0x14460d4d0>,\n",
       "  <article.ArticleParser at 0x144551650>,\n",
       "  <article.ArticleParser at 0x144550350>],\n",
       " [<article.ArticleParser at 0x144765f90>,\n",
       "  <article.ArticleParser at 0x144775350>,\n",
       "  <article.ArticleParser at 0x10e27f0d0>,\n",
       "  <article.ArticleParser at 0x128e3e010>,\n",
       "  <article.ArticleParser at 0x128e3e2d0>],\n",
       " [<article.ArticleParser at 0x144753fd0>,\n",
       "  <article.ArticleParser at 0x144750e50>,\n",
       "  <article.ArticleParser at 0x144750fd0>,\n",
       "  <article.ArticleParser at 0x1447507d0>,\n",
       "  <article.ArticleParser at 0x1447509d0>],\n",
       " [<article.ArticleParser at 0x14466dc90>,\n",
       "  <article.ArticleParser at 0x144587a50>,\n",
       "  <article.ArticleParser at 0x144776e90>,\n",
       "  <article.ArticleParser at 0x144777610>,\n",
       "  <article.ArticleParser at 0x1447740d0>],\n",
       " [<article.ArticleParser at 0x1446563d0>,\n",
       "  <article.ArticleParser at 0x14453d990>,\n",
       "  <article.ArticleParser at 0x144667290>,\n",
       "  <article.ArticleParser at 0x1416981d0>,\n",
       "  <article.ArticleParser at 0x14460d190>],\n",
       " [<article.ArticleParser at 0x144766010>,\n",
       "  <article.ArticleParser at 0x1445da690>,\n",
       "  <article.ArticleParser at 0x1445dbf50>,\n",
       "  <article.ArticleParser at 0x1445db490>,\n",
       "  <article.ArticleParser at 0x1445d8d50>],\n",
       " [<article.ArticleParser at 0x144665e90>,\n",
       "  <article.ArticleParser at 0x144592ad0>,\n",
       "  <article.ArticleParser at 0x1445939d0>,\n",
       "  <article.ArticleParser at 0x144593f90>,\n",
       "  <article.ArticleParser at 0x144590a90>],\n",
       " [<article.ArticleParser at 0x1445fa950>,\n",
       "  <article.ArticleParser at 0x1447b2750>,\n",
       "  <article.ArticleParser at 0x1447b17d0>,\n",
       "  <article.ArticleParser at 0x1447b26d0>,\n",
       "  <article.ArticleParser at 0x1447b1b10>],\n",
       " [<article.ArticleParser at 0x14457c310>,\n",
       "  <article.ArticleParser at 0x14457e890>,\n",
       "  <article.ArticleParser at 0x144655310>,\n",
       "  <article.ArticleParser at 0x128ee1510>,\n",
       "  <article.ArticleParser at 0x1447a5ed0>],\n",
       " [<article.ArticleParser at 0x14460c850>,\n",
       "  <article.ArticleParser at 0x14460fdd0>,\n",
       "  <article.ArticleParser at 0x14460cd50>,\n",
       "  <article.ArticleParser at 0x14460ff50>,\n",
       "  <article.ArticleParser at 0x14460ca90>],\n",
       " [<article.ArticleParser at 0x1445669d0>,\n",
       "  <article.ArticleParser at 0x1445aee90>,\n",
       "  <article.ArticleParser at 0x1445afcd0>,\n",
       "  <article.ArticleParser at 0x1445ad810>,\n",
       "  <article.ArticleParser at 0x1445ada50>],\n",
       " [<article.ArticleParser at 0x1445158d0>,\n",
       "  <article.ArticleParser at 0x1447b2910>,\n",
       "  <article.ArticleParser at 0x1447b2890>,\n",
       "  <article.ArticleParser at 0x1447b3e90>,\n",
       "  <article.ArticleParser at 0x1447b1a10>],\n",
       " [<article.ArticleParser at 0x128ee0d10>,\n",
       "  <article.ArticleParser at 0x1445cbad0>,\n",
       "  <article.ArticleParser at 0x1445c9c50>,\n",
       "  <article.ArticleParser at 0x1445cbd10>,\n",
       "  <article.ArticleParser at 0x1445cba90>],\n",
       " [<article.ArticleParser at 0x1447ec190>,\n",
       "  <article.ArticleParser at 0x1447ee6d0>,\n",
       "  <article.ArticleParser at 0x1447ef210>,\n",
       "  <article.ArticleParser at 0x1447ed8d0>,\n",
       "  <article.ArticleParser at 0x1447ee550>]]"
      ]
     },
     "execution_count": 47,
     "metadata": {},
     "output_type": "execute_result"
    }
   ],
   "source": [
    "articles"
   ]
  },
  {
   "cell_type": "code",
   "execution_count": 52,
   "metadata": {},
   "outputs": [],
   "source": [
    "def analyse_polarity(\n",
    "        articles: list[list[ArticleParser]]) -> list[float]:\n",
    "    \"\"\"Analyses and averages the sentiment over each day, and returns a set of data points that can be used for plotting\"\"\"\n",
    "    sentiments = []\n",
    "    for art in articles:\n",
    "        # we average the sentiment over the list art of articles\n",
    "        polarity = numpy.mean([a.sentiment[0] for a in art])\n",
    "        sentiments.append(polarity)\n",
    "    return sentiments"
   ]
  },
  {
   "cell_type": "code",
   "execution_count": 53,
   "metadata": {},
   "outputs": [
    {
     "ename": "AttributeError",
     "evalue": "'ArticleParser' object has no attribute '_link'",
     "output_type": "error",
     "traceback": [
      "\u001b[0;31m---------------------------------------------------------------------------\u001b[0m",
      "\u001b[0;31mAttributeError\u001b[0m                            Traceback (most recent call last)",
      "Cell \u001b[0;32mIn[53], line 1\u001b[0m\n\u001b[0;32m----> 1\u001b[0m \u001b[39mprint\u001b[39m(analyse_polarity(articles))\n",
      "Cell \u001b[0;32mIn[52], line 7\u001b[0m, in \u001b[0;36manalyse_polarity\u001b[0;34m(articles)\u001b[0m\n\u001b[1;32m      4\u001b[0m sentiments \u001b[39m=\u001b[39m []\n\u001b[1;32m      5\u001b[0m \u001b[39mfor\u001b[39;00m art \u001b[39min\u001b[39;00m articles:\n\u001b[1;32m      6\u001b[0m     \u001b[39m# we average the sentiment over the list art of articles\u001b[39;00m\n\u001b[0;32m----> 7\u001b[0m     polarity \u001b[39m=\u001b[39m numpy\u001b[39m.\u001b[39mmean([a\u001b[39m.\u001b[39;49msentiment[\u001b[39m0\u001b[39;49m] \u001b[39mfor\u001b[39;49;00m a \u001b[39min\u001b[39;49;00m art])\n\u001b[1;32m      8\u001b[0m     sentiments\u001b[39m.\u001b[39mappend(polarity)\n\u001b[1;32m      9\u001b[0m \u001b[39mreturn\u001b[39;00m sentiments\n",
      "Cell \u001b[0;32mIn[52], line 7\u001b[0m, in \u001b[0;36m<listcomp>\u001b[0;34m(.0)\u001b[0m\n\u001b[1;32m      4\u001b[0m sentiments \u001b[39m=\u001b[39m []\n\u001b[1;32m      5\u001b[0m \u001b[39mfor\u001b[39;00m art \u001b[39min\u001b[39;00m articles:\n\u001b[1;32m      6\u001b[0m     \u001b[39m# we average the sentiment over the list art of articles\u001b[39;00m\n\u001b[0;32m----> 7\u001b[0m     polarity \u001b[39m=\u001b[39m numpy\u001b[39m.\u001b[39mmean([a\u001b[39m.\u001b[39;49msentiment[\u001b[39m0\u001b[39m] \u001b[39mfor\u001b[39;00m a \u001b[39min\u001b[39;00m art])\n\u001b[1;32m      8\u001b[0m     sentiments\u001b[39m.\u001b[39mappend(polarity)\n\u001b[1;32m      9\u001b[0m \u001b[39mreturn\u001b[39;00m sentiments\n",
      "File \u001b[0;32m~/Desktop/Summer II 23/CS4992/cs4992/back_end/article.py:74\u001b[0m, in \u001b[0;36mArticleParser.sentiment\u001b[0;34m(self)\u001b[0m\n\u001b[1;32m     67\u001b[0m \u001b[39m@property\u001b[39m\n\u001b[1;32m     68\u001b[0m \u001b[39mdef\u001b[39;00m \u001b[39msentiment\u001b[39m(\u001b[39mself\u001b[39m):\n\u001b[1;32m     69\u001b[0m \u001b[39m    \u001b[39m\u001b[39m\"\"\"\u001b[39;00m\n\u001b[1;32m     70\u001b[0m \u001b[39m    Finds the sentiment (polarity, subjectivity) where the polarity\u001b[39;00m\n\u001b[1;32m     71\u001b[0m \u001b[39m    is [-1.0, 1.0] and the subjectivity is 0.0, 1.0]. Returns a named tuple\u001b[39;00m\n\u001b[1;32m     72\u001b[0m \u001b[39m    of the form Sentiment(polarity, subjectivity). \u001b[39;00m\n\u001b[1;32m     73\u001b[0m \u001b[39m    \"\"\"\u001b[39;00m\n\u001b[0;32m---> 74\u001b[0m     text_blob_object \u001b[39m=\u001b[39m TextBlob(\u001b[39mself\u001b[39;49m\u001b[39m.\u001b[39;49mbody_text) \n\u001b[1;32m     75\u001b[0m     \u001b[39mreturn\u001b[39;00m text_blob_object\u001b[39m.\u001b[39msentiment\n",
      "File \u001b[0;32m~/Desktop/Summer II 23/CS4992/cs4992/back_end/article.py:52\u001b[0m, in \u001b[0;36mArticleParser.body_text\u001b[0;34m(self)\u001b[0m\n\u001b[1;32m     50\u001b[0m \u001b[39m@property\u001b[39m\n\u001b[1;32m     51\u001b[0m \u001b[39mdef\u001b[39;00m \u001b[39mbody_text\u001b[39m(\u001b[39mself\u001b[39m):\n\u001b[0;32m---> 52\u001b[0m     html_text \u001b[39m=\u001b[39m requests\u001b[39m.\u001b[39mget(\u001b[39mself\u001b[39;49m\u001b[39m.\u001b[39;49m_link, allow_redirects\u001b[39m=\u001b[39m\u001b[39mTrue\u001b[39;00m) \n\u001b[1;32m     53\u001b[0m     html_text \u001b[39m=\u001b[39m requests\u001b[39m.\u001b[39mget(html_text\u001b[39m.\u001b[39murl, allow_redirects\u001b[39m=\u001b[39m\u001b[39mTrue\u001b[39;00m) \n\u001b[1;32m     55\u001b[0m     soup \u001b[39m=\u001b[39m BeautifulSoup(html_text\u001b[39m.\u001b[39mcontent\u001b[39m.\u001b[39mdecode(\u001b[39m'\u001b[39m\u001b[39mutf-8\u001b[39m\u001b[39m'\u001b[39m), features\u001b[39m=\u001b[39m\u001b[39m'\u001b[39m\u001b[39mhtml.parser\u001b[39m\u001b[39m'\u001b[39m)\n",
      "\u001b[0;31mAttributeError\u001b[0m: 'ArticleParser' object has no attribute '_link'"
     ]
    }
   ],
   "source": [
    "print(analyse_polarity(articles))"
   ]
  },
  {
   "cell_type": "markdown",
   "metadata": {},
   "source": [
    "generate a * b search URLS for a given search term, a being the number of days we span over, and b being the number of articles per day. 2. perform sentment analysis for all articles. 3. average out sentiment for each day in the period. 4. plot a graph that shows the progression of sentiment over time"
   ]
  }
 ],
 "metadata": {
  "kernelspec": {
   "display_name": "nlp",
   "language": "python",
   "name": "python3"
  },
  "language_info": {
   "codemirror_mode": {
    "name": "ipython",
    "version": 3
   },
   "file_extension": ".py",
   "mimetype": "text/x-python",
   "name": "python",
   "nbconvert_exporter": "python",
   "pygments_lexer": "ipython3",
   "version": "3.11.4"
  },
  "orig_nbformat": 4
 },
 "nbformat": 4,
 "nbformat_minor": 2
}
