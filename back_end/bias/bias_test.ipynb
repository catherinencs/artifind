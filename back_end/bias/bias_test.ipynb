{
 "cells": [
  {
   "cell_type": "code",
   "execution_count": 16,
   "metadata": {},
   "outputs": [],
   "source": [
    "import pandas as pd\n",
    "from textblob import TextBlob\n",
    "from nltk.corpus import stopwords \n",
    "import nltk\n",
    "\n",
    "class BiasDetector:\n",
    "    def __init__(self):\n",
    "        # Libraries\n",
    "        self.stop = set(word.upper() for word in stopwords.words(\"english\")) \n",
    "\n",
    "        # Importing the bias dataset \n",
    "        bias_dataset = pd.read_csv(\"allsides.csv\")\n",
    "        bias_dataset = bias_dataset.reset_index()\n",
    "\n",
    "        # Preprocess bias_dataset names and stores it in a set\n",
    "        self.processed_sources = {\n",
    "            tuple(self.__process_source(source=row[\"name\"])): row[\"bias\"]\n",
    "            for _, row in bias_dataset.iterrows()\n",
    "        }\n",
    "\n",
    "    def __process_source(self, source):\n",
    "        \"\"\"\n",
    "        Processes the given source into uppercase tokens and returns the set with\n",
    "        stop words removed using set difference operation.\n",
    "        \"\"\"\n",
    "        text_blob = TextBlob(source.upper())\n",
    "        tokens = set(text_blob.words)\n",
    "        return tokens - self.stop\n",
    "\n",
    "    def __is_subset(self, source, candidate_source):\n",
    "        \"\"\"\n",
    "        Determines if all the elements in the candidate source are present in the source.\n",
    "        \"\"\"\n",
    "        return all(token in source for token in candidate_source)\n",
    "\n",
    "    def find_bias(self, source):\n",
    "        \"\"\"\n",
    "        Finds the bias level based on the source given as a string. If the source is not \n",
    "        in the table, returns unknown, otherwise returns the bias as a string.\n",
    "        \"\"\"\n",
    "        given_source = self.__process_source(source)\n",
    "\n",
    "        # Check if the preprocessed source is a subset of the processed source\n",
    "        for candidate_source in self.processed_sources:\n",
    "            if self.__is_subset(source=given_source, candidate_source=candidate_source):\n",
    "                return self.processed_sources[candidate_source]\n",
    "\n",
    "        return \"UNKNOWN\""
   ]
  },
  {
   "cell_type": "code",
   "execution_count": 18,
   "metadata": {},
   "outputs": [],
   "source": [
    "bd = BiasDetector()"
   ]
  },
  {
   "cell_type": "code",
   "execution_count": 21,
   "metadata": {},
   "outputs": [
    {
     "name": "stdout",
     "output_type": "stream",
     "text": [
      "{('ABC',): 'LEFT-CENTER', ('LAW',): 'LEFT-CENTER', ('ABRIDGE',): 'ALLSIDES', ('AJ',): 'LEFT', ('JAZEERA', 'AL'): 'LEFT-CENTER', ('ALLSIDES',): 'ALLSIDES', ('COMMUNITY', 'ALLSIDES'): 'ALLSIDES', ('ALTERNET',): 'LEFT', ('AMERICAN', 'GREATNESS'): 'RIGHT', ('THINKER', 'AMERICAN'): 'RIGHT', ('AQUINAS', 'COLLEGE', 'SAINT'): 'LEFT', ('DIGITAL', 'ARC'): 'CENTER', ('ARKANSAS', 'DEMOCRAT-GAZETTE'): 'LEFT', ('PRESS', 'ASSOCIATED'): 'CENTER', ('BLACK', 'ATLANTA', 'STAR'): 'LEFT-CENTER', ('JOURNAL-CONSTITUTION', 'ATLANTA'): 'LEFT-CENTER', ('AMERICAN-STATESMAN', 'AUSTIN'): 'LEFT-CENTER', ('AXIOS',): 'CENTER', ('CENTRAL', 'AZ'): 'CENTER', ('BABYLON', 'BEE', 'HUMOR'): 'RIGHT-CENTER', ('BARNSTABLE', 'PATRIOT'): 'CENTER', ('BBC',): 'CENTER', ('DRIFT', 'BEARING'): 'RIGHT', ('BET',): 'LEFT-CENTER', ('BIBLICAL', 'ROLES', 'GENDER'): 'RIGHT', ('BIBLICAL', 'SEXOLOGY'): 'RIGHT', ('BIZPAC', 'REVIEW'): 'RIGHT', ('BLACK', 'ENTERPRISE'): 'LEFT-CENTER', ('BLOCK', 'CHICAGO', 'CLUB'): 'LEFT', ('BLOOMBERG',): 'LEFT-CENTER', ('VIRGINIA', 'BLUE'): 'LEFT', ('BOING',): 'LEFT', ('BOSTON', 'HERALD'): 'RIGHT-CENTER', ('EDITORIAL', 'BOSTON', 'HERALD'): 'RIGHT-CENTER', ('BOSTON', 'REVIEW'): 'LEFT-CENTER', ('DAILY', 'NEWS', 'GREEN', 'BOWLING'): 'LEFT-CENTER', ('ANGELS', 'BRAVER'): 'ALLSIDES', ('NEWS', 'BREITBART'): 'RIGHT', ('BRIDGEMI.COM',): 'CENTER', ('BROWN', 'GIRL', 'MAGAZINE'): 'LEFT', ('BUSTLE',): 'LEFT-CENTER', ('BUZZFEED',): 'LEFT', ('BYRON', 'DONALDS'): 'RIGHT-CENTER', ('C-SPAN',): 'CENTER', ('CALMATTERS',): 'CENTER', ('CALWATCHDOG',): 'CENTER', ('CARE2',): 'LEFT', ('CBN',): 'RIGHT', ('CBS',): 'LEFT-CENTER', ('MEDIA', 'MAJOR', 'CENTER', 'SOURCES'): 'CENTER', ('PUBLIC', 'INTEGRITY', 'CENTER'): 'LEFT-CENTER', ('CENTRE', 'VIEW'): 'LEFT-CENTER', ('CRUSADER', 'CHICAGO'): 'LEFT', ('DEFENDER', 'CHICAGO'): 'LEFT', ('SUN-TIMES', 'CHICAGO'): 'LEFT-CENTER', ('TRIBUNE', 'CHICAGO'): 'CENTER', ('CHRISTIAN', 'MONITOR', 'SCIENCE'): 'CENTER', ('CHRISTIANITY', 'TODAY'): 'RIGHT-CENTER', ('JOURNAL', 'CITY'): 'RIGHT', ('CNBC',): 'CENTER', ('CNET',): 'CENTER', ('CNN',): 'LEFT', ('BUSINESS', 'CNN'): 'LEFT-CENTER', ('CNSNEWS.COM',): 'RIGHT', ('JOURNALISM', 'COLUMBIA', 'REVIEW'): 'CENTER', ('MISSOURIAN', 'COLUMBIA'): 'CENTER', ('COMMENTARY', 'MAGAZINE'): 'RIGHT', ('DREAMS', 'COMMON'): 'LEFT', ('CONCORD', 'MONITOR'): 'CENTER', ('CONSERVATIVE', 'HQ'): 'RIGHT', ('REPORT', 'COOK'): 'CENTER', ('COUNTER', 'CURRENTS'): 'LEFT-CENTER', ('COUNTERPOINTING',): 'ALLSIDES', ('CROWDPAC',): 'CENTER', ('INDEPENDENT', 'CU'): 'CENTER', ('AFFAIRS', 'CURRENT'): 'LEFT', ('DAILY', 'BEAST'): 'LEFT', ('BREEZE', 'DAILY'): 'CENTER', ('DAILY', 'CARDINAL'): 'CENTER', ('DAILY', 'CHELA'): 'LEFT', ('DAILY', 'CITIZEN'): 'RIGHT', ('DAILY', 'KOS'): 'LEFT', ('DAILY', 'MAIL'): 'RIGHT', ('DAILY', 'NORTHWESTERN'): 'LEFT-CENTER', ('PRESS', 'DAILY'): 'RIGHT-CENTER', ('PROGRESS', 'DAILY'): 'CENTER', ('DAILY', 'TARGUM'): 'LEFT-CENTER', ('DEFENSE', 'ONE'): 'CENTER', ('DEMOCRACY',): 'LEFT', ('MOINES', 'DES', 'REGISTER'): 'CENTER', ('NEWS', 'DESERET'): 'RIGHT-CENTER', ('GOD', 'DESIRING'): 'RIGHT-CENTER', ('DETROIT', 'PRESS', 'FREE'): 'LEFT-CENTER', ('DETROIT', 'NEWS'): 'CENTER', ('DEUTSCHE', 'WELLE'): 'CENTER', ('COURIER', 'DIPLOMATIC'): 'CENTER', ('FALL', 'DIVIDED'): 'ALLSIDES', ('DRUDGE', 'REPORT'): 'RIGHT-CENTER', ('DUKE', 'CHRONICLE'): 'CENTER', ('EAST', 'BAY', 'TIMES'): 'LEFT-CENTER', ('WEEK', 'EDUCATION'): 'CENTER', ('MAGAZINE', 'ELLE'): 'LEFT-CENTER', ('ERRATICUS',): 'CENTER', ('ESPN.COM',): 'LEFT-CENTER', ('ESQUIRE',): 'LEFT', ('TRAIL', 'ESTES', 'PARK', 'GAZETTE'): 'CENTER', ('EUREK', 'ALERT'): 'CENTER', ('MAGAZINE', 'EVIE'): 'RIGHT-CENTER', ('CHECKER', 'FACT', 'BLOG'): 'CENTER', ('FAIR',): 'LEFT-CENTER', ('FALLS', 'NEWS', 'PRESS', 'CHURCH'): 'LEFT', ('FINANCIAL', 'TIMES'): 'CENTER', ('FISCAL', 'TIMES'): 'RIGHT-CENTER', ('FIVETHIRTYEIGHT',): 'CENTER', ('FORBES',): 'CENTER', ('AFFAIRS', 'FOREIGN'): 'CENTER', ('POLICY', 'FOREIGN'): 'CENTER', ('WORTH', 'FORT', 'STAR-TELEGRAM'): 'CENTER', ('FORTUNE',): 'CENTER', ('FOX', 'BUSINESS'): 'RIGHT-CENTER', ('FOX',): 'RIGHT', ('FOX', 'NEWS', 'LATINO'): 'RIGHT', ('FRONTPAGE', 'MAGAZINE'): 'RIGHT', ('GIZMODO',): 'LEFT-CENTER', ('GLAAD',): 'LEFT-CENTER', ('PROVIDENCE', 'GOLOCAL'): 'CENTER', ('GOOGLE', 'NEWS'): 'LEFT-CENTER', ('GQ.COM',): 'LEFT-CENTER', ('GRIST',): 'LEFT-CENTER', ('HAARETZ',): 'CENTER', ('ROADS', 'HAMPTON', 'MESSANGER'): 'CENTER', ('SCHOOL', 'BUSINESS', 'HARVARD'): 'LEFT-CENTER', ('HEAVY.COM',): 'CENTER', ('DEMOCRAT', 'HERALD'): 'LEFT', ('HIGH', 'TIMES'): 'LEFT-CENTER', ('LATINA', 'HIP'): 'LEFT', ('BEAT', 'HONOLULU', 'CIVIL'): 'CENTER', ('HOTAIR',): 'RIGHT-CENTER', ('HOUSTON', 'CHRONICLE'): 'CENTER', ('HUFFPOST',): 'LEFT', ('STATESMAN', 'IDAHO'): 'CENTER', ('INACOW',): 'RIGHT', ('INDEPENDENT', 'JOURNAL', 'REVIEW'): 'CENTER', ('INDIANA', 'DAILY', 'STUDENT'): 'CENTER', ('INDY', 'ONLINE'): 'CENTER', ('INDY', 'WEEK'): 'LEFT-CENTER', ('INDYSTAR',): 'CENTER', ('INFOWARS',): 'RIGHT', ('BULLETIN', 'DAILY', 'INLAND', 'VALLEY'): 'CENTER', ('PHILANTHROPY', 'INSIDE'): 'CENTER', ('INSIDER',): 'CENTER', ('CONSERVATIVE', 'INTELLECTUAL'): 'RIGHT-CENTER', ('INTERNATIONAL', 'BUSINESS', 'TIMES'): 'CENTER', (\"'S\", 'INVESTOR', 'DAILY', 'BUSINESS'): 'RIGHT-CENTER', ('IVN',): 'CENTER', ('JACOBIN',): 'LEFT', ('RADIO', 'JEFFERSON', 'PUBLIC'): 'CENTER', ('JEZEBEL',): 'LEFT', (\"'S\", 'JOURNALIST', 'RESOURCE'): 'CENTER', ('DAILY', 'JSTOR'): 'CENTER', ('MEDIA', 'JUBILEE'): 'CENTER', ('JUDICIAL', 'WATCH'): 'RIGHT-CENTER', ('SECURITY',): 'CENTER', ('NEWS',): 'CENTER', ('KALW.ORG',): 'CENTER', ('KATU',): 'CENTER', ('NEWS', 'KENOSHA'): 'CENTER', ('KQED',): 'CENTER', ('KSL',): 'RIGHT', ('KWCH',): 'CENTER', ('VEGAS', 'SUN', 'LAS'): 'LEFT-CENTER', ('LATINO', 'REBELS'): 'LEFT', ('LAW', 'CRIME'): 'CENTER', ('LEAFLY',): 'LEFT', ('LEESBURG', 'TODAY'): 'RIGHT-CENTER', ('MEDIA', 'MAJOR', 'LEFT', 'SOURCES'): 'LEFT', ('NATION', 'LGBTQ'): 'LEFT', ('LIFEHACKER',): 'CENTER', ('FIRST', 'PROJECT', 'LISTEN'): 'ALLSIDES', ('LIVE', 'NEWS', 'ACTION'): 'RIGHT-CENTER', ('LIVE', 'SCIENCE'): 'CENTER', ('BEACH', 'LONG', 'PRESS-TELEGRAM'): 'CENTER', ('LONGMONT', 'TIMES-CALL'): 'LEFT-CENTER', ('DAILY', 'LOS', 'ANGELES'): 'CENTER', ('LOS', 'ANGELES', 'TIMES'): 'LEFT-CENTER', ('LOUISVILLE', 'COURIER-JOURNAL'): 'LEFT-CENTER', ('SENSE', 'MAKING'): 'CENTER', ('MARIJUANA', 'MOMENT'): 'LEFT-CENTER', ('MARKETWATCH',): 'CENTER', ('MASHABLE',): 'LEFT', ('MCCLATCHYDC',): 'CENTER', ('MEDIA', 'MATTERS'): 'LEFT', ('MEDIA', 'RESEARCH', 'CENTER'): 'RIGHT', ('VILLAGE', 'MEDIA'): 'CENTER', ('MEDIAITE',): 'LEFT-CENTER', ('METRO', 'WEEKLY'): 'LEFT', ('MIAMI', 'HERALD'): 'LEFT-CENTER', ('MICHELLEMALKIN.COM',): 'RIGHT', ('DAILY', 'MICHIGAN'): 'LEFT-CENTER', ('MILITARY', 'TIMES'): 'CENTER', ('REVIEW', 'MISINFORMATION'): 'CENTER', ('MISMATCH.ORG',): 'ALLSIDES', ('MIT',): 'CENTER', ('MITÚ',): 'LEFT', ('JONES', 'MOTHER'): 'LEFT', ('MSNBC',): 'LEFT', ('NEWS', 'MTV', 'ONLINE'): 'LEFT-CENTER', ('NATIONAL', 'GEOGRAPHIC'): 'CENTER', ('JOURNAL', 'NATIONAL'): 'CENTER', ('NATIONAL', 'REVIEW'): 'RIGHT', ('NATURE.COM',): 'CENTER', ('QUARTERLY', 'NAUTILUS'): 'CENTER', ('NBC',): 'LEFT-CENTER', ('TODAY', 'SHOW', 'NBC'): 'LEFT-CENTER', ('DISCOURSES', 'NEW'): 'CENTER', ('NEW', 'HAMPSHIRE', 'UNION', 'LEADER'): 'CENTER', ('REPUBLIC', 'NEW'): 'LEFT', ('DAILY', 'YORK', 'NEW', 'NEWS'): 'LEFT', ('YORK', 'NEW', 'MAGAZINE'): 'LEFT', ('YORK', 'NEW', 'NEWS', 'POST'): 'RIGHT-CENTER', ('OPINION', 'YORK', 'NEW', 'POST'): 'RIGHT', ('YORK', 'NEW', 'NEWS', 'TIMES'): 'LEFT-CENTER', ('OPINION', 'YORK', 'NEW', 'TIMES'): 'LEFT', ('NEWSBUSTERS',): 'RIGHT', ('NEWS', 'NEWSMAX'): 'RIGHT-CENTER', ('OPINION', 'NEWSMAX'): 'RIGHT', ('NEWSONE',): 'LEFT', ('NEWSWEEK',): 'CENTER', ('NEWSY',): 'CENTER', ('NEWTRALS',): 'CENTER', ('LAB', 'NIEMAN'): 'CENTER', ('NMPOLITICS.NET',): 'CENTER', ('NEWS', 'NPR', 'ONLINE'): 'CENTER', ('OPINION', 'NPR'): 'LEFT-CENTER', ('NETWORK', 'AMERICA', 'OAN', 'NEWS', 'ONE'): 'RIGHT', ('REGISTER', 'COUNTY', 'ORANGE'): 'RIGHT-CENTER', ('OUR.NEWS',): 'CENTER', ('OUTKICK', 'COVERAGE'): 'CENTER', ('PACIFIC', 'STANDARD'): 'LEFT-CENTER', ('PALM', 'DESERT', 'SUN', 'SPRINGS'): 'CENTER', ('PASADENA', 'STAR-NEWS'): 'CENTER', ('PATCH.COM',): 'CENTER', ('PBS', 'NEWSHOUR'): 'CENTER', ('PEACOCK', 'PANACHE'): 'LEFT', ('PHYS.ORG',): 'CENTER', ('PINKNEWS',): 'LEFT', ('PITTSBURGH', 'POST-GAZETTE'): 'RIGHT-CENTER', ('PJ', 'MEDIA'): 'RIGHT', ('POLITICO',): 'LEFT-CENTER', ('POLITICUSUSA',): 'LEFT', ('PRESS', 'PORTLAND', 'HERALD'): 'CENTER', ('POYNTER',): 'CENTER', ('PRI', 'PUBLIC', 'INTERNATIONAL', 'RADIO'): 'CENTER', ('IOWA', 'PROGRESSIVE', 'VOICES'): 'LEFT', ('PROJECT', 'VERITAS'): 'RIGHT-CENTER', ('PROPUBLICA',): 'LEFT-CENTER', ('PSYCHOLOGY', 'TODAY'): 'CENTER', ('NEWS', 'PXW'): 'CENTER', ('QUARTZ',): 'CENTER', ('QUILLETTE',): 'RIGHT-CENTER', ('REPORTS', 'RASMUSSEN'): 'CENTER', ('STORY', 'RAW'): 'LEFT', ('REALCLEARPOLITICS',): 'CENTER', ('REASON',): 'RIGHT-CENTER', ('JOURNAL', 'RECORD'): 'CENTER', ('RACING', 'HORSES', 'RED'): 'RIGHT', ('FACTS', 'DAILY', 'REDLANDS'): 'CENTER', ('REDSTATE',): 'RIGHT', ('REFINERY29',): 'LEFT', ('REUTERS',): 'CENTER', ('NEWS', 'REVOLVER'): 'RIGHT', ('DISPATCH', 'RICHMOND', 'TIMES'): 'RIGHT-CENTER', ('RIGHT', 'MEDIA', 'MAJOR', 'SOURCES'): 'RIGHT', ('RIGHT', 'NEWS', 'SIDE'): 'RIGHT', ('RIGHT', 'NEWS', 'WING'): 'RIGHT', ('ROLL', 'CALL'): 'CENTER', ('ROLLINGSTONE.COM',): 'LEFT', ('SALON',): 'LEFT', ('ANTONIO', 'SAN', 'EXPRESS-NEWS'): 'CENTER', ('BERNARDINO', 'SAN', 'SUN'): 'CENTER', ('SAN', 'DIEGO', 'UNION-TRIBUNE'): 'LEFT-CENTER', ('SAN', 'CHRONICLE', 'FRANCISCO'): 'LEFT', ('GABRIEL', 'SAN', 'VALLEY', 'TRIBUNE'): 'CENTER', ('JOSE', 'MERCURY', 'SAN', 'NEWS'): 'LEFT-CENTER', ('DAILY', 'SCIENCE'): 'CENTER', ('AMERICAN', 'SCIENTIFIC'): 'LEFT-CENTER', ('SCOTUSBLOG',): 'CENTER', ('MEDIA', 'NEWS', 'SCRIBERR'): 'CENTER', ('OPINION/EDITORIAL', 'MEDIA', 'SCRIBERR'): 'RIGHT-CENTER', ('WEEKLY', 'SF'): 'CENTER', ('SFGATE',): 'LEFT-CENTER', ('DAILY', 'NEWS', 'SKY-HI'): 'LEFT-CENTER', ('SLATE',): 'LEFT', ('SMERCONISH',): 'CENTER', ('SMITHSONIAN', 'MAGAZINE'): 'CENTER', ('ALTERNATIVE', 'SOCIALIST'): 'LEFT', ('PROJECT/THE', 'SOCIALIST', 'BULLET'): 'LEFT', ('MORNING', 'SOUTH', 'CHINA', 'POST'): 'CENTER', ('SPECTATOR', 'USA'): 'RIGHT', ('SPIKED',): 'RIGHT-CENTER', ('SPLINTER',): 'LEFT', ('SPOKESMAN', 'REVIEW'): 'LEFT-CENTER', ('LOUIS', 'POST-DISPATCH', 'ST'): 'CENTER', ('STAR', 'TRIBUNE'): 'LEFT-CENTER', ('STAT',): 'CENTER', ('JOURNAL', 'STATE'): 'LEFT-CENTER', ('STORYCORPS',): 'ALLSIDES', ('STUDENTS', 'LIFE'): 'RIGHT-CENTER', ('SUBVERSE',): 'CENTER', ('SUSPEND', 'PODCAST', 'BELIEF'): 'ALLSIDES', ('MAG', 'TABLET'): 'RIGHT-CENTER', ('TALLAHASSEE', 'DEMOCRAT'): 'CENTER', ('TAMPA', 'BAY', 'TIMES'): 'CENTER', ('TECH', 'XPLORE'): 'CENTER', ('TECHCRUNCH',): 'CENTER', ('TEEN', 'VOGUE'): 'LEFT-CENTER', ('ADVOCATE',): 'LEFT-CENTER', ('ADVOCATE-MESSENGER',): 'LEFT-CENTER', ('CONSERVATIVE', 'AMERICAN'): 'RIGHT-CENTER', ('MIND', 'AMERICAN'): 'RIGHT-CENTER', ('SPECTATOR', 'AMERICAN'): 'RIGHT', ('APPEAL',): 'CENTER', ('ATLANTIC',): 'LEFT-CENTER', ('BELLOWS',): 'CENTER', ('BOSTON', 'GLOBE'): 'LEFT-CENTER', ('BULWARK',): 'RIGHT-CENTER', ('CADIZ', 'RECORD'): 'LEFT-CENTER', ('CANYON', 'COUNTY', 'ZEPHYR'): 'LEFT', ('SQUARE', 'MICHIGAN', 'CENTER'): 'CENTER', ('CHRISTIAN', 'POST'): 'RIGHT-CENTER', ('COLLEGE', 'FIX'): 'RIGHT', ('SUN', 'COLORADO'): 'LEFT-CENTER', ('DISPATCH', 'COLUMBUS'): 'CENTER', ('COMMERCIAL', 'APPEAL'): 'LEFT-CENTER', ('CONVERSATION',): 'LEFT-CENTER', ('COURIER-JOURNAL',): 'LEFT-CENTER', ('DAILY', 'CALLER'): 'RIGHT', ('DAILY', 'DOT'): 'LEFT-CENTER', ('DAILY', 'SIGNAL'): 'RIGHT', ('DAILY', 'WIRE'): 'RIGHT', ('MORNING', 'DALLAS', 'NEWS'): 'CENTER', ('DAILY', 'COUNTY', 'DELAWARE', 'TIMES'): 'LEFT-CENTER', ('DISPATCH',): 'RIGHT-CENTER', ('ECONOMIST',): 'LEFT-CENTER', ('EPOCH', 'TIMES'): 'RIGHT-CENTER', ('FEDERALIST',): 'RIGHT', ('SIDE', 'FLIP'): 'ALLSIDES', ('FULCRUM',): 'CENTER', ('GATEWAY', 'PUNDIT'): 'RIGHT', ('MAIL', 'GLOBE'): 'CENTER', ('GUARDIAN',): 'LEFT-CENTER', ('HILL',): 'CENTER', ('HOLLYWOOD', 'REPORTER'): 'LEFT-CENTER', ('IMAGINATIVE', 'CONSERVATIVE'): 'RIGHT', ('INDEPENDENT',): 'LEFT-CENTER', ('INTERCEPT',): 'LEFT', ('JAPAN', 'TIMES'): 'CENTER', ('JERUSALEM', 'POST'): 'CENTER', ('JUGGERNAUT',): 'LEFT', ('JUSTICE',): 'LEFT-CENTER', ('KOREA', 'HERALD'): 'CENTER', ('REPUBLIC', 'LIBERTARIAN'): 'RIGHT-CENTER', ('PROJECT', 'LINCOLN'): 'ALLSIDES', ('DAILY', 'NEWS', 'LUFKIN'): 'CENTER', ('MANEATER',): 'LEFT-CENTER', ('MARKUP',): 'CENTER', ('MARSHALL', 'PROJECT'): 'CENTER', ('NATION',): 'LEFT', ('NATIONAL', 'PULSE'): 'RIGHT', ('NEW', 'YORKER'): 'LEFT', ('YORK', 'NEW', 'OBSERVER'): 'CENTER', ('ONION', 'HUMOR'): 'LEFT-CENTER', ('ORACLE',): 'CENTER', ('OREGONIAN',): 'CENTER', ('INQUIRER', 'PHILADELPHIA'): 'LEFT-CENTER', ('PLEBEIAN',): 'LEFT-CENTER', ('POLICE', 'TRIBUNE'): 'RIGHT-CENTER', ('MILLENNIAL', 'POST'): 'RIGHT-CENTER', ('PRESS-ENTERPRISE',): 'RIGHT-CENTER', ('BLACK', 'RED'): 'CENTER', ('RELIABLE', 'BIAS'): 'CENTER', ('REPUBLICAN',): 'CENTER', ('RESURGENT',): 'RIGHT', ('ROOT',): 'LEFT-CENTER', ('BEE', 'SACRAMENTO'): 'LEFT-CENTER', ('SATURDAY', 'EVENING', 'POST'): 'CENTER', ('SEATTLE', 'TIMES'): 'CENTER', ('AFRICAN', 'SOUTH'): 'CENTER', ('TELEGRAPH', 'UK'): 'RIGHT-CENTER', ('TENNESSEEAN',): 'CENTER', ('TEXAN',): 'RIGHT-CENTER', ('OBSERVER', 'TEXAS'): 'LEFT-CENTER', ('TEXAS', 'TRIBUNE'): 'LEFT-CENTER', ('TIMES-PICAYUNE',): 'CENTER', ('VERGE',): 'LEFT-CENTER', ('WEEK', 'NEWS'): 'LEFT-CENTER', ('OPINION', 'WEEK'): 'LEFT-CENTER', ('WEEKLY', 'STANDARD'): 'RIGHT', ('WESTERN', 'JOURNAL'): 'RIGHT', ('THEBLAZE.COM',): 'RIGHT', ('THINKPROGRESS',): 'LEFT', ('MAGAZINE', 'TIME'): 'LEFT-CENTER', ('TOWNHALL',): 'RIGHT', ('TRAINS.COM',): 'CENTER', ('TRUTHDIG',): 'LEFT', ('TRUTHOUT',): 'LEFT-CENTER', ('WORLD', 'U.S', 'NEWS', 'REPORT'): 'LEFT-CENTER', ('UNIVISION',): 'LEFT-CENTER', ('UPWORTHY',): 'LEFT', ('TODAY', 'USA'): 'LEFT-CENTER', ('VANITY', 'FAIR'): 'LEFT-CENTER', ('VARIETY',): 'CENTER', ('VICE',): 'LEFT', ('MERCURY', 'VIRGINIA'): 'CENTER', ('VOICE', 'AMERICA'): 'CENTER', ('VOLANTE',): 'CENTER', ('VOX',): 'LEFT', ('VT', 'DIGGER'): 'LEFT-CENTER', ('WAKE', 'POLITICS'): 'CENTER', ('JOURNAL', 'STREET', 'WALL'): 'CENTER', ('OPINION', 'JOURNAL', 'STREET', 'WALL'): 'RIGHT-CENTER', ('WANDTV',): 'CENTER', ('WASHINGTON', 'EXAMINER'): 'RIGHT-CENTER', ('WASHINGTON', 'BEACON', 'FREE'): 'RIGHT', ('WASHINGTON', 'MONTHLY'): 'LEFT-CENTER', ('WASHINGTON', 'POST'): 'LEFT-CENTER', ('WASHINGTON', 'TIMES'): 'RIGHT-CENTER', ('WATCHDOG.ORG',): 'RIGHT-CENTER', ('WFAE',): 'CENTER ', ('WGBH',): 'CENTER', ('WGN',): 'CENTER', ('WHATFINGER', 'NEWS'): 'RIGHT', ('DAILY', 'NEWS', 'WHITTIER'): 'CENTER', ('WIRED',): 'CENTER', ('WISCONSIN', 'GAZETTE'): 'LEFT-CENTER', ('WND.COM',): 'RIGHT', ('NEWS', 'YAHOO'): 'LEFT-CENTER', ('360', 'YAHOO'): 'ALLSIDES', ('MAGAZINE', 'YES'): 'LEFT', ('ZEROHEDGE',): 'RIGHT-CENTER'}\n",
      "LEFT-CENTER\n"
     ]
    }
   ],
   "source": [
    "print(bd.processed_sources)"
   ]
  },
  {
   "cell_type": "code",
   "execution_count": 22,
   "metadata": {},
   "outputs": [
    {
     "name": "stdout",
     "output_type": "stream",
     "text": [
      "LEFT-CENTER\n"
     ]
    }
   ],
   "source": [
    "print(bd.find_bias(\"independent\"))"
   ]
  },
  {
   "cell_type": "code",
   "execution_count": 23,
   "metadata": {},
   "outputs": [
    {
     "name": "stdout",
     "output_type": "stream",
     "text": [
      "RIGHT\n"
     ]
    }
   ],
   "source": [
    "print(bd.find_bias(\"fox news\"))"
   ]
  },
  {
   "cell_type": "code",
   "execution_count": 24,
   "metadata": {},
   "outputs": [
    {
     "name": "stdout",
     "output_type": "stream",
     "text": [
      "CENTER\n"
     ]
    }
   ],
   "source": [
    "print(bd.find_bias(\"bbc\"))"
   ]
  },
  {
   "cell_type": "code",
   "execution_count": 25,
   "metadata": {},
   "outputs": [],
   "source": [
    "#Libraries\n",
    "from textblob import TextBlob\n",
    "\n",
    "class Sentiment:\n",
    "    @staticmethod\n",
    "    def get_sentiment(text):\n",
    "        \"\"\"\n",
    "        Finds the sentiment (polarity, subjectivity) where the polarity\n",
    "        is [-1.0, 1.0] and the subjectivity is 0.0, 1.0]. Returns a named tuple\n",
    "        of the form Sentiment(polarity, subjectivity). \n",
    "        \"\"\"\n",
    "        text_blob_object = TextBlob(text) \n",
    "\n",
    "        return text_blob_object.sentiment\n"
   ]
  },
  {
   "cell_type": "code",
   "execution_count": 28,
   "metadata": {},
   "outputs": [
    {
     "data": {
      "text/plain": [
       "0.9"
      ]
     },
     "execution_count": 28,
     "metadata": {},
     "output_type": "execute_result"
    }
   ],
   "source": [
    "text = 'i hate my life'\n",
    "s = Sentiment()\n",
    "s.get_sentiment(text=text)\n",
    "s.get_sentiment(text=text)[0]\n",
    "s.get_sentiment(text=text)[1]"
   ]
  }
 ],
 "metadata": {
  "kernelspec": {
   "display_name": "nlp",
   "language": "python",
   "name": "python3"
  },
  "language_info": {
   "codemirror_mode": {
    "name": "ipython",
    "version": 3
   },
   "file_extension": ".py",
   "mimetype": "text/x-python",
   "name": "python",
   "nbconvert_exporter": "python",
   "pygments_lexer": "ipython3",
   "version": "3.11.4"
  },
  "orig_nbformat": 4
 },
 "nbformat": 4,
 "nbformat_minor": 2
}
