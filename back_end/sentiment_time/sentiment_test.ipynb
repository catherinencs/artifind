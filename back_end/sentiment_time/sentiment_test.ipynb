{
 "cells": [
  {
   "cell_type": "code",
   "execution_count": 2,
   "metadata": {},
   "outputs": [
    {
     "name": "stdout",
     "output_type": "stream",
     "text": [
      "Intel MKL WARNING: Support of Intel(R) Streaming SIMD Extensions 4.2 (Intel(R) SSE4.2) enabled only processors has been deprecated. Intel oneAPI Math Kernel Library 2025.0 will require Intel(R) Advanced Vector Extensions (Intel(R) AVX) instructions.\n",
      "Intel MKL WARNING: Support of Intel(R) Streaming SIMD Extensions 4.2 (Intel(R) SSE4.2) enabled only processors has been deprecated. Intel oneAPI Math Kernel Library 2025.0 will require Intel(R) Advanced Vector Extensions (Intel(R) AVX) instructions.\n"
     ]
    }
   ],
   "source": [
    "from textblob import TextBlob\n",
    "from search import SearchEngine\n",
    "from article import ArticleParser\n",
    "from datetime import datetime, timedelta\n",
    "from xml.etree.ElementTree import ElementTree, fromstring\n",
    "import requests\n",
    "import numpy as np\n",
    "import pandas as pd\n",
    "from matplotlib import pyplot as plt "
   ]
  },
  {
   "cell_type": "code",
   "execution_count": 3,
   "metadata": {},
   "outputs": [],
   "source": [
    "def generate_search_urls(\n",
    "    search_term: str,\n",
    "    start: datetime,\n",
    "    end: datetime) -> list[str]:\n",
    "    \"\"\"\n",
    "    Generates a search URL for the given search term and start and end date\n",
    "    Used for sentiment analysis over time\n",
    "    \"\"\"\n",
    "    if start and not end:\n",
    "        # no to date, default to a timeframe of 10 days\n",
    "        end = start + timedelta(days=10)\n",
    "    elif end and not start:\n",
    "        # no from date, default to a timeframe of 10 days\n",
    "        start = end - timedelta(days=10)\n",
    "    elif not end and not start:\n",
    "        # neither exist, default to a timeframe of the past 10 days\n",
    "        end = datetime.today()\n",
    "        start = end - timedelta(days=10)\n",
    "\n",
    "    delta = end - start\n",
    "\n",
    "    # for every day in the range, generate a search URL for the same topic\n",
    "\n",
    "    # specifying \"pointers\" to the start and end date\n",
    "    from_date = start\n",
    "    to_date = start + timedelta(days=1)\n",
    "\n",
    "    urls = []\n",
    "\n",
    "    for _ in range(delta.days):\n",
    "        time_filter = f'after:{from_date.strftime(\"%Y-%m-%d\")} before:{to_date.strftime(\"%Y-%m-%d\")}'\n",
    "        urls.append(f'https://news.google.com/rss/search?q={search_term}+{time_filter}&hl=en-GB&gl=GB&ceid=GB:en')\n",
    "        from_date = to_date\n",
    "        to_date = to_date + timedelta(days=1)\n",
    "\n",
    "    return urls"
   ]
  },
  {
   "cell_type": "code",
   "execution_count": 4,
   "metadata": {},
   "outputs": [],
   "source": [
    "urls = generate_search_urls(\"robbery\", (datetime.today() - timedelta(days=10)).date(), (datetime.today()).date())"
   ]
  },
  {
   "cell_type": "code",
   "execution_count": 5,
   "metadata": {},
   "outputs": [],
   "source": [
    "def get_x_news(\n",
    "    urls: list[str],\n",
    "    items: int) -> list[list[ArticleParser]]:\n",
    "    \"\"\"\n",
    "    Searches Google News for the given search term, and returns the number of news items specified. \n",
    "    \"\"\"\n",
    "    articles = []\n",
    "    for i in range(0, len(urls)):\n",
    "        response = requests.get(urls[i])\n",
    "        root = fromstring(response.text)\n",
    "        news_items = []\n",
    "        all_items = root.findall('.//channel/item')\n",
    "        for j in range(items):\n",
    "            article = ArticleParser(all_items[j])\n",
    "            news_items.append(article)\n",
    "        articles.append(news_items)\n",
    "    return articles"
   ]
  },
  {
   "cell_type": "code",
   "execution_count": 6,
   "metadata": {},
   "outputs": [],
   "source": [
    "articles = get_x_news(urls, 5)"
   ]
  },
  {
   "cell_type": "code",
   "execution_count": 7,
   "metadata": {},
   "outputs": [
    {
     "data": {
      "text/plain": [
       "[[<article.ArticleParser at 0x14944dfd0>,\n",
       "  <article.ArticleParser at 0x1496de9d0>,\n",
       "  <article.ArticleParser at 0x1496deb10>,\n",
       "  <article.ArticleParser at 0x1496deb50>,\n",
       "  <article.ArticleParser at 0x1496deb90>],\n",
       " [<article.ArticleParser at 0x147c6aa10>,\n",
       "  <article.ArticleParser at 0x10fe2e510>,\n",
       "  <article.ArticleParser at 0x14944d790>,\n",
       "  <article.ArticleParser at 0x10fe1e6d0>,\n",
       "  <article.ArticleParser at 0x1494d31d0>],\n",
       " [<article.ArticleParser at 0x1495cba50>,\n",
       "  <article.ArticleParser at 0x148a72e10>,\n",
       "  <article.ArticleParser at 0x149574a50>,\n",
       "  <article.ArticleParser at 0x149505950>,\n",
       "  <article.ArticleParser at 0x149129e10>],\n",
       " [<article.ArticleParser at 0x1494ef8d0>,\n",
       "  <article.ArticleParser at 0x1478cb090>,\n",
       "  <article.ArticleParser at 0x10fe73910>,\n",
       "  <article.ArticleParser at 0x10fe41290>,\n",
       "  <article.ArticleParser at 0x1494c3b50>],\n",
       " [<article.ArticleParser at 0x10fe2f150>,\n",
       "  <article.ArticleParser at 0x149598250>,\n",
       "  <article.ArticleParser at 0x14934b8d0>,\n",
       "  <article.ArticleParser at 0x14934a750>,\n",
       "  <article.ArticleParser at 0x10f8d6cd0>],\n",
       " [<article.ArticleParser at 0x1497201d0>,\n",
       "  <article.ArticleParser at 0x149720290>,\n",
       "  <article.ArticleParser at 0x149720850>,\n",
       "  <article.ArticleParser at 0x14971bf50>,\n",
       "  <article.ArticleParser at 0x14971bad0>],\n",
       " [<article.ArticleParser at 0x149256790>,\n",
       "  <article.ArticleParser at 0x14957c190>,\n",
       "  <article.ArticleParser at 0x10fe20050>,\n",
       "  <article.ArticleParser at 0x10f817dd0>,\n",
       "  <article.ArticleParser at 0x14960cb50>],\n",
       " [<article.ArticleParser at 0x10fe60a50>,\n",
       "  <article.ArticleParser at 0x149723d10>,\n",
       "  <article.ArticleParser at 0x149723a10>,\n",
       "  <article.ArticleParser at 0x149723150>,\n",
       "  <article.ArticleParser at 0x149723dd0>],\n",
       " [<article.ArticleParser at 0x147713fd0>,\n",
       "  <article.ArticleParser at 0x14924f690>,\n",
       "  <article.ArticleParser at 0x14970c890>,\n",
       "  <article.ArticleParser at 0x14970e250>,\n",
       "  <article.ArticleParser at 0x14970fbd0>],\n",
       " [<article.ArticleParser at 0x14971bcd0>,\n",
       "  <article.ArticleParser at 0x14971b950>,\n",
       "  <article.ArticleParser at 0x14971b2d0>,\n",
       "  <article.ArticleParser at 0x14971a550>,\n",
       "  <article.ArticleParser at 0x147c81710>]]"
      ]
     },
     "execution_count": 7,
     "metadata": {},
     "output_type": "execute_result"
    }
   ],
   "source": [
    "articles"
   ]
  },
  {
   "cell_type": "code",
   "execution_count": 8,
   "metadata": {},
   "outputs": [],
   "source": [
    "def analyse_polarity(\n",
    "        articles: list[list[ArticleParser]]) -> list[float]:\n",
    "    \"\"\"Analyses and averages the sentiment over each day, and returns a set of data points that can be used for plotting\"\"\"\n",
    "    sentiments = []\n",
    "    for art in articles:\n",
    "        # we average the sentiment over the list art of articles\n",
    "        print([a.sentiment for a in art])\n",
    "        polarity = np.mean([a.sentiment[0] for a in art])\n",
    "        sentiments.append(round(polarity, 2))\n",
    "    return sentiments"
   ]
  },
  {
   "cell_type": "code",
   "execution_count": 9,
   "metadata": {},
   "outputs": [
    {
     "name": "stdout",
     "output_type": "stream",
     "text": [
      "[Sentiment(polarity=0.03829101610000486, subjectivity=0.3389196945376722), Sentiment(polarity=0.08430397727272727, subjectivity=0.24988162878787876), Sentiment(polarity=0.01083333333333333, subjectivity=0.22438095238095238), Sentiment(polarity=-0.08995098039215686, subjectivity=0.34950980392156855), Sentiment(polarity=0.015291269841269843, subjectivity=0.30564920634920634)]\n",
      "[Sentiment(polarity=0.0, subjectivity=0.0), Sentiment(polarity=0.10476190476190476, subjectivity=0.2238095238095238), Sentiment(polarity=0.2066757803599909, subjectivity=0.4075814536340852), Sentiment(polarity=0.042857142857142864, subjectivity=0.2892857142857143), Sentiment(polarity=-0.06055555555555556, subjectivity=0.2116666666666667)]\n",
      "[Sentiment(polarity=0.10476190476190476, subjectivity=0.2238095238095238), Sentiment(polarity=0.2433441558441558, subjectivity=0.4069196428571429), Sentiment(polarity=-0.04314574314574315, subjectivity=0.4189213564213565), Sentiment(polarity=0.09289272371464152, subjectivity=0.5051962877305343), Sentiment(polarity=0.026300909974379363, subjectivity=0.533041788143829)]\n",
      "[Sentiment(polarity=0.1396632996632997, subjectivity=0.37777777777777777), Sentiment(polarity=0.0, subjectivity=0.0), Sentiment(polarity=0.12893518518518512, subjectivity=0.3340277777777778), Sentiment(polarity=0.0, subjectivity=0.0), Sentiment(polarity=0.020542635658914732, subjectivity=0.30145348837209296)]\n",
      "[Sentiment(polarity=0.026062177070241582, subjectivity=0.38834776334776344), Sentiment(polarity=0.06399140660334689, subjectivity=0.341628222523745), Sentiment(polarity=0.0, subjectivity=0.0), Sentiment(polarity=0.17866612554112554, subjectivity=0.39405573593073606), Sentiment(polarity=0.2315151515151515, subjectivity=0.45)]\n",
      "[Sentiment(polarity=0.0, subjectivity=0.0), Sentiment(polarity=0.25588235294117645, subjectivity=0.41127450980392155), Sentiment(polarity=0.15978260869565217, subjectivity=0.33110766045548656), Sentiment(polarity=0.0395032802249297, subjectivity=0.32821886017762314), Sentiment(polarity=0.0, subjectivity=0.0)]\n",
      "[Sentiment(polarity=0.10897435897435898, subjectivity=0.25641025641025644), Sentiment(polarity=0.0, subjectivity=0.0), Sentiment(polarity=0.0, subjectivity=0.0), Sentiment(polarity=0.0, subjectivity=0.0), Sentiment(polarity=0.2294947240259741, subjectivity=0.42915990259740266)]\n",
      "[Sentiment(polarity=0.007817537072856219, subjectivity=0.3033849129593811), Sentiment(polarity=0.0, subjectivity=0.0), Sentiment(polarity=0.08617925284591951, subjectivity=0.27879188712522046), Sentiment(polarity=-0.0360770402437069, subjectivity=0.3714432686654909), Sentiment(polarity=0.12461456671982986, subjectivity=0.4129452418926103)]\n",
      "[Sentiment(polarity=0.0, subjectivity=0.0), Sentiment(polarity=0.21193568336425475, subjectivity=0.44154298082869514), Sentiment(polarity=0.08042285095856525, subjectivity=0.2741921768707483), Sentiment(polarity=0.1029381112714446, subjectivity=0.2549142215808882), Sentiment(polarity=0.0, subjectivity=0.0)]\n",
      "[Sentiment(polarity=0.1276531549258822, subjectivity=0.2928210678210678), Sentiment(polarity=0.08963443963443962, subjectivity=0.2843584656084656), Sentiment(polarity=-0.02471380471380472, subjectivity=0.2492592592592592), Sentiment(polarity=0.1627094356261023, subjectivity=0.37393077601410935), Sentiment(polarity=0.03116883116883116, subjectivity=0.4770021645021645)]\n"
     ]
    }
   ],
   "source": [
    "polarities = analyse_polarity(articles)"
   ]
  },
  {
   "cell_type": "code",
   "execution_count": 10,
   "metadata": {},
   "outputs": [
    {
     "data": {
      "text/plain": [
       "[0.01, 0.06, 0.08, 0.06, 0.1, 0.09, 0.07, 0.04, 0.08, 0.08]"
      ]
     },
     "execution_count": 10,
     "metadata": {},
     "output_type": "execute_result"
    }
   ],
   "source": [
    "polarities"
   ]
  },
  {
   "cell_type": "code",
   "execution_count": 11,
   "metadata": {},
   "outputs": [],
   "source": [
    "def generate_dates(start: datetime, end:datetime) -> list[str]:\n",
    "    delta = timedelta(days=1)\n",
    "    dates = []\n",
    "    while start < end:\n",
    "        start += delta\n",
    "        dates.append(start.strftime('%m/%d/%Y'))\n",
    "    return dates"
   ]
  },
  {
   "cell_type": "code",
   "execution_count": 12,
   "metadata": {},
   "outputs": [],
   "source": [
    "dates = generate_dates((datetime.today() - timedelta(days=10)).date(), (datetime.today()).date())"
   ]
  },
  {
   "cell_type": "code",
   "execution_count": 13,
   "metadata": {},
   "outputs": [
    {
     "data": {
      "text/plain": [
       "['07/22/2023',\n",
       " '07/23/2023',\n",
       " '07/24/2023',\n",
       " '07/25/2023',\n",
       " '07/26/2023',\n",
       " '07/27/2023',\n",
       " '07/28/2023',\n",
       " '07/29/2023',\n",
       " '07/30/2023',\n",
       " '07/31/2023']"
      ]
     },
     "execution_count": 13,
     "metadata": {},
     "output_type": "execute_result"
    }
   ],
   "source": [
    "dates"
   ]
  },
  {
   "cell_type": "code",
   "execution_count": 14,
   "metadata": {},
   "outputs": [
    {
     "name": "stdout",
     "output_type": "stream",
     "text": [
      "         date polarity\n",
      "0  07/22/2023     0.01\n",
      "1  07/23/2023     0.06\n",
      "2  07/24/2023     0.08\n",
      "3  07/25/2023     0.06\n",
      "4  07/26/2023      0.1\n",
      "5  07/27/2023     0.09\n",
      "6  07/28/2023     0.07\n",
      "7  07/29/2023     0.04\n",
      "8  07/30/2023     0.08\n",
      "9  07/31/2023     0.08\n"
     ]
    }
   ],
   "source": [
    "# creating some sample data\n",
    "column_names = ['date', 'polarity']\n",
    "df=pd.DataFrame(np.transpose([dates, polarities]), columns=column_names)\n",
    "print(df)"
   ]
  },
  {
   "cell_type": "code",
   "execution_count": 20,
   "metadata": {},
   "outputs": [
    {
     "name": "stdout",
     "output_type": "stream",
     "text": [
      "0    0.01\n",
      "1    0.06\n",
      "2    0.08\n",
      "3    0.06\n",
      "4    0.10\n",
      "5    0.09\n",
      "6    0.07\n",
      "7    0.04\n",
      "8    0.08\n",
      "9    0.08\n",
      "Name: polarity, dtype: float64\n",
      "0    0.01\n",
      "1    0.06\n",
      "2    0.08\n",
      "3    0.06\n",
      "4    0.10\n",
      "5    0.09\n",
      "6    0.07\n",
      "7    0.04\n",
      "8    0.08\n",
      "9    0.08\n",
      "Name: polarity, dtype: float64\n"
     ]
    }
   ],
   "source": [
    "print(df.polarity)\n",
    "df.polarity = df.polarity.astype(float)\n",
    "print(df.polarity)"
   ]
  },
  {
   "cell_type": "code",
   "execution_count": 30,
   "metadata": {},
   "outputs": [
    {
     "data": {
      "image/png": "[encoded data removed]",
      "text/plain": [
       "<Figure size 800x400 with 1 Axes>"
      ]
     },
     "metadata": {},
     "output_type": "display_data"
    }
   ],
   "source": [
    "plt.figure(figsize=(8, 4))\n",
    "plt.scatter(df['date'], df['polarity'], label='Polarity', marker='x', c='red')\n",
    "plt.xlabel(\"Date\")\n",
    "plt.ylabel(\"Polarity\")\n",
    "plt.title(f\"Polarity over time of the topic 'balls'\")\n",
    "plt.xticks([dates[0], dates[-1]])\n",
    "plt.ylim(-1, 1)\n",
    "plt.show()"
   ]
  }
 ],
 "metadata": {
  "kernelspec": {
   "display_name": "nlp",
   "language": "python",
   "name": "python3"
  },
  "language_info": {
   "codemirror_mode": {
    "name": "ipython",
    "version": 3
   },
   "file_extension": ".py",
   "mimetype": "text/x-python",
   "name": "python",
   "nbconvert_exporter": "python",
   "pygments_lexer": "ipython3",
   "version": "3.11.4"
  },
  "orig_nbformat": 4
 },
 "nbformat": 4,
 "nbformat_minor": 2
}
