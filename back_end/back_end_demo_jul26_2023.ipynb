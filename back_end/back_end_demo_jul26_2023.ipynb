{
 "cells": [
  {
   "cell_type": "code",
   "execution_count": null,
   "id": "def2d3b0",
   "metadata": {},
   "outputs": [],
   "source": [
    "cd .."
   ]
  },
  {
   "cell_type": "code",
   "execution_count": null,
   "id": "c468e182",
   "metadata": {},
   "outputs": [],
   "source": [
    "pip install --upgrade pip"
   ]
  },
  {
   "cell_type": "code",
   "execution_count": null,
   "id": "4c7e9fa7",
   "metadata": {},
   "outputs": [],
   "source": [
    "pip install ."
   ]
  },
  {
   "cell_type": "code",
   "execution_count": null,
   "id": "dc5728d3",
   "metadata": {},
   "outputs": [],
   "source": [
    "cd back_end"
   ]
  },
  {
   "cell_type": "code",
   "execution_count": null,
   "id": "7d9a52d1",
   "metadata": {},
   "outputs": [],
   "source": [
    "uvicorn main:app --reload"
   ]
  },
  {
   "cell_type": "code",
   "execution_count": 10,
   "id": "0e934366",
   "metadata": {},
   "outputs": [],
   "source": [
    "import requests\n",
    "server = \"http://127.0.0.1:8000\"\n",
    "term = \"new album\"\n",
    "start_date = \"2023-07-20\"\n",
    "days = 7\n",
    "endpoint = f\"{server}/search/{term}/{days}\"\n",
    "response = requests.get(endpoint, headers={\"max_results\": \"3\"})"
   ]
  },
  {
   "cell_type": "code",
   "execution_count": 16,
   "id": "31208311",
   "metadata": {},
   "outputs": [
    {
     "name": "stdout",
     "output_type": "stream",
     "text": [
      "Drake promises his new album will drop in 'a couple of weeks'\n",
      "Drake: new ‘For All the Dogs’ album may drop in ‘a couple of weeks’\n",
      "Drake is teasing the release of his new album 'For All the Dogs.' Here's everything we know about the project so far.\n",
      "Gaslight Anthem singer likens bond with Bruce Springsteen to ‘being friends with Batman.’ They just recorded a duet\n",
      "The Gaslight Anthem Confirm New Album, Reveal Single with Bruce ...\n",
      "Sunday Conversation: Greta Van Fleet On Their New Album, ‘Starcatcher’\n",
      "Chris Stapleton Announces New Album “Higher” - Saving Country ...\n",
      "Keanu Reeves’ Band Dogstar Announces First Album In 23 Years, A Tour & Drops ‘Everything Turns Around’ Music Video\n",
      "Nas Sets His Sights on Rap Supremacy With Upcoming Album ‘Magic 2’\n",
      "Mark Ronson says he's heard Dua Lipa's new album and that it's ...\n",
      "Damon Albarn felt 'quite lost' writing new Blur album\n",
      "BTS’s J-Hope Announces A New Album And Documentary\n",
      "Code Orange announce new album The Above\n",
      "Poppy Announces New Album, Shares New Single “Knockoff”: Stream\n",
      "Taylor Swift’s Latest Outsold The Top 50 Bestselling Albums In America Combined... Times Two\n"
     ]
    }
   ],
   "source": [
    "import json\n",
    "articles = json.loads(response.content)\n",
    "for description in articles:\n",
    "    print(description)"
   ]
  },
  {
   "cell_type": "code",
   "execution_count": 17,
   "id": "933e477d",
   "metadata": {},
   "outputs": [],
   "source": [
    "home_endpoint = f'{server}/home'"
   ]
  },
  {
   "cell_type": "markdown",
   "id": "bcd20c9d",
   "metadata": {},
   "source": [
    "<h2><font color='#009ABE'>Get Homepage Search Info:</font></h2>"
   ]
  },
  {
   "cell_type": "code",
   "execution_count": 19,
   "id": "20a7f929",
   "metadata": {},
   "outputs": [
    {
     "name": "stdout",
     "output_type": "stream",
     "text": [
      "b'{\"detail\":\"File not found\"}'\n"
     ]
    }
   ],
   "source": [
    "def get_homepage(user: str):\n",
    "    home_endpoint = f'{server}/home'\n",
    "    response = requests.get(f'{home_endpoint}/{user}')\n",
    "    return response.content\n",
    "print(get_homepage(\"will\"))"
   ]
  },
  {
   "cell_type": "code",
   "execution_count": null,
   "id": "1d1b5a53",
   "metadata": {},
   "outputs": [],
   "source": [
    "new_user = \"temp\"\n",
    "northeastern_university_search = {\"term\": \"Northeastern University\",\n",
    "                                 \"days\": 7}\n",
    "london_search = {\"term\": \"London\",\n",
    "                \"days\": 3}\n",
    "homepage_to_post = [northeastern_university_search, london_search]\n",
    "endpoint = f'{home_endpoint}/{new_user}'\n",
    "requests.post(endpoint, homepage_to_post)"
   ]
  },
  {
   "cell_type": "code",
   "execution_count": null,
   "id": "97972bca",
   "metadata": {},
   "outputs": [],
   "source": [
    "print(get_homepage(new_user))"
   ]
  },
  {
   "cell_type": "code",
   "execution_count": null,
   "id": "1d7d41c8",
   "metadata": {},
   "outputs": [],
   "source": []
  }
 ],
 "metadata": {
  "kernelspec": {
   "display_name": "Python 3 (ipykernel)",
   "language": "python",
   "name": "python3"
  },
  "language_info": {
   "codemirror_mode": {
    "name": "ipython",
    "version": 3
   },
   "file_extension": ".py",
   "mimetype": "text/x-python",
   "name": "python",
   "nbconvert_exporter": "python",
   "pygments_lexer": "ipython3",
   "version": "3.9.17"
  }
 },
 "nbformat": 4,
 "nbformat_minor": 5
}
