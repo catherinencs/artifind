{
 "cells": [
  {
   "cell_type": "markdown",
   "id": "b1ee5f3c",
   "metadata": {},
   "source": [
    "# Search for \"new album\" in past 3 days"
   ]
  },
  {
   "cell_type": "code",
   "execution_count": 70,
   "id": "0e934366",
   "metadata": {},
   "outputs": [],
   "source": [
    "import requests\n",
    "server = \"http://127.0.0.1:8000\"\n",
    "term = \"new album\"\n",
    "days = 7\n",
    "endpoint = f\"{server}/search/{term}/{days}\"\n",
    "response = requests.get(endpoint)"
   ]
  },
  {
   "cell_type": "code",
   "execution_count": 71,
   "id": "31208311",
   "metadata": {},
   "outputs": [
    {
     "name": "stdout",
     "output_type": "stream",
     "text": [
      "Drake promises his new album will drop in 'a couple of weeks'\n",
      "Drake: new ‘For All the Dogs’ album may drop in ‘a couple of weeks’\n",
      "Drake is teasing the release of his new album 'For All the Dogs.' Here's everything we know about the project so far.\n",
      "Sunday Conversation: Greta Van Fleet On Their New Album, ‘Starcatcher’\n",
      "Greta Van Fleet return with 'Starcatcher,' an album they say ...\n",
      "Greta Van Fleet looks back to its Michigan roots as new 'Starcatcher ...\n",
      "Chris Stapleton Announces New Album ‘Higher,’ Shares First Single ‘White Horse’\n",
      "Keanu Reeves’ Band Dogstar Announces First Album In 23 Years, A Tour & Drops ‘Everything Turns Around’ Music Video\n",
      "Nas Sets His Sights on Rap Supremacy With Upcoming Album ‘Magic 2’\n",
      "Mark Ronson says he's heard Dua Lipa's new album and that it's ...\n",
      "Damon Albarn felt 'quite lost' writing new Blur album\n",
      "BTS’s J-Hope Announces A New Album And Documentary\n",
      "Code Orange announce new album The Above\n",
      "Poppy Announces New Album, Shares New Single “Knockoff”: Stream\n",
      "Taylor Swift’s Latest Outsold The Top 50 Bestselling Albums In America Combined... Times Two\n"
     ]
    }
   ],
   "source": [
    "import json\n",
    "articles = json.loads(response.content)\n",
    "for description in articles:\n",
    "    print(description)"
   ]
  },
  {
   "cell_type": "code",
   "execution_count": 72,
   "id": "933e477d",
   "metadata": {},
   "outputs": [],
   "source": [
    "home_endpoint = f'{server}/home'"
   ]
  },
  {
   "cell_type": "code",
   "execution_count": 73,
   "id": "20a7f929",
   "metadata": {},
   "outputs": [
    {
     "name": "stdout",
     "output_type": "stream",
     "text": [
      "{'hello!': [{'title': 'Naomi Watts on finding love after menopause and why age is in - HELLO!', 'link': 'https://news.google.com/rss/articles/CBMif2h0dHBzOi8vd3d3LmhlbGxvbWFnYXppbmUuY29tL2hlYWx0aGFuZGJlYXV0eS9oZWFsdGgtYW5kLWZpdG5lc3MvNDk4MTYxL25hb21pLXdhdHRzLW1hcnJpYWdlLW1lbm9wYXVzZS1ob2xseXdvb2QtYWdlLWV4Y2x1c2l2ZS_SAYoBaHR0cHM6Ly93d3cuaGVsbG9tYWdhemluZS5jb20vaGVhbHRoYW5kYmVhdXR5L2hlYWx0aC1hbmQtZml0bmVzcy80OTgxNjEvbmFvbWktd2F0dHMtbWFycmlhZ2UtbWVub3BhdXNlLWhvbGx5d29vZC1hZ2UtZXhjbHVzaXZlLz92aWV3YXM9YW1w?oc=5', 'description': '<a href=\"https://news.google.com/rss/articles/CBMif2h0dHBzOi8vd3d3LmhlbGxvbWFnYXppbmUuY29tL2hlYWx0aGFuZGJlYXV0eS9oZWFsdGgtYW5kLWZpdG5lc3MvNDk4MTYxL25hb21pLXdhdHRzLW1hcnJpYWdlLW1lbm9wYXVzZS1ob2xseXdvb2QtYWdlLWV4Y2x1c2l2ZS_SAYoBaHR0cHM6Ly93d3cuaGVsbG9tYWdhemluZS5jb20vaGVhbHRoYW5kYmVhdXR5L2hlYWx0aC1hbmQtZml0bmVzcy80OTgxNjEvbmFvbWktd2F0dHMtbWFycmlhZ2UtbWVub3BhdXNlLWhvbGx5d29vZC1hZ2UtZXhjbHVzaXZlLz92aWV3YXM9YW1w?oc=5\" target=\"_blank\">Naomi Watts on finding love after menopause and why age is in</a>&nbsp;&nbsp;<font color=\"#6f6f6f\">HELLO!</font>', 'date': '2023-07-24T07:00:00', 'source': 'HELLO!', 'sentiment': [0.13636363636363635, 0.45454545454545453]}, {'title': 'Kelly Ripa teases future of Live alongside husband Mark Consuelos - HELLO!', 'link': 'https://news.google.com/rss/articles/CBMidWh0dHBzOi8vd3d3LmhlbGxvbWFnYXppbmUuY29tL2ZpbG0vNDk4NDMwL2tlbGx5LXJpcGEtdGVhc2VzLWZ1dHVyZS1saXZlLXdpdGgta2VsbHktYW5kLW1hcmstYWxvbmdzaWRlLW1hcmstY29uc3VlbG9zL9IBgAFodHRwczovL3d3dy5oZWxsb21hZ2F6aW5lLmNvbS9maWxtLzQ5ODQzMC9rZWxseS1yaXBhLXRlYXNlcy1mdXR1cmUtbGl2ZS13aXRoLWtlbGx5LWFuZC1tYXJrLWFsb25nc2lkZS1tYXJrLWNvbnN1ZWxvcy8_dmlld2FzPWFtcA?oc=5', 'description': '<a href=\"https://news.google.com/rss/articles/CBMidWh0dHBzOi8vd3d3LmhlbGxvbWFnYXppbmUuY29tL2ZpbG0vNDk4NDMwL2tlbGx5LXJpcGEtdGVhc2VzLWZ1dHVyZS1saXZlLXdpdGgta2VsbHktYW5kLW1hcmstYWxvbmdzaWRlLW1hcmstY29uc3VlbG9zL9IBgAFodHRwczovL3d3dy5oZWxsb21hZ2F6aW5lLmNvbS9maWxtLzQ5ODQzMC9rZWxseS1yaXBhLXRlYXNlcy1mdXR1cmUtbGl2ZS13aXRoLWtlbGx5LWFuZC1tYXJrLWFsb25nc2lkZS1tYXJrLWNvbnN1ZWxvcy8_dmlld2FzPWFtcA?oc=5\" target=\"_blank\">Kelly Ripa teases future of Live alongside husband Mark Consuelos</a>&nbsp;&nbsp;<font color=\"#6f6f6f\">HELLO!</font>', 'date': '2023-07-24T14:06:33', 'source': 'HELLO!', 'sentiment': [0.13636363636363635, 0.45454545454545453]}], 'hi!': [{'title': 'Hi Point Steakhouse closed due to fire - WMTV – NBC15', 'link': 'https://news.google.com/rss/articles/CBMiRWh0dHBzOi8vd3d3Lm5iYzE1LmNvbS8yMDIzLzA3LzI0L2hpLXBvaW50LXN0ZWFraG91c2UtY2xvc2VkLWR1ZS1maXJlL9IBVGh0dHBzOi8vd3d3Lm5iYzE1LmNvbS8yMDIzLzA3LzI0L2hpLXBvaW50LXN0ZWFraG91c2UtY2xvc2VkLWR1ZS1maXJlLz9vdXRwdXRUeXBlPWFtcA?oc=5', 'description': '<a href=\"https://news.google.com/rss/articles/CBMiRWh0dHBzOi8vd3d3Lm5iYzE1LmNvbS8yMDIzLzA3LzI0L2hpLXBvaW50LXN0ZWFraG91c2UtY2xvc2VkLWR1ZS1maXJlL9IBVGh0dHBzOi8vd3d3Lm5iYzE1LmNvbS8yMDIzLzA3LzI0L2hpLXBvaW50LXN0ZWFraG91c2UtY2xvc2VkLWR1ZS1maXJlLz9vdXRwdXRUeXBlPWFtcA?oc=5\" target=\"_blank\">Hi Point Steakhouse closed due to fire</a>&nbsp;&nbsp;<font color=\"#6f6f6f\">WMTV – NBC15</font>', 'date': '2023-07-24T21:09:00', 'source': 'WMTV – NBC15', 'sentiment': [0.13636363636363635, 0.45454545454545453]}, {'title': 'We Tried It: Hi Honey Farm Tour - HONOLULU Magazine', 'link': 'https://news.google.com/rss/articles/CBMiNGh0dHBzOi8vd3d3Lmhvbm9sdWx1bWFnYXppbmUuY29tL2hpLWhvbmV5LWZhcm0tdG91ci_SAQA?oc=5', 'description': '<a href=\"https://news.google.com/rss/articles/CBMiNGh0dHBzOi8vd3d3Lmhvbm9sdWx1bWFnYXppbmUuY29tL2hpLWhvbmV5LWZhcm0tdG91ci_SAQA?oc=5\" target=\"_blank\">We Tried It: Hi Honey Farm Tour</a>&nbsp;&nbsp;<font color=\"#6f6f6f\">HONOLULU Magazine</font>', 'date': '2023-07-24T20:56:05', 'source': 'HONOLULU Magazine', 'sentiment': [0.13636363636363635, 0.45454545454545453]}], 'sup!': [{'title': 'LAWA prohibits SUP water bottle sales as it looks to more ... - TRBusiness', 'link': 'https://news.google.com/rss/articles/CBMimAFodHRwczovL3d3dy50cmJ1c2luZXNzLmNvbS9yZWdpb25hbC1uZXdzL3RoZS1hbWVyaWNhcy9sYXdhLXByb2hpYml0cy1zaW5nbGUtdXNlLXBsYXN0aWMtd2F0ZXItYm90dGxlLXNhbGVzLWFzLWl0LWxvb2tzLXRvLW1vcmUtc3VzdGFpbmFibGUtZnV0dXJlLzIzOTU3NdIBAA?oc=5', 'description': '<a href=\"https://news.google.com/rss/articles/CBMimAFodHRwczovL3d3dy50cmJ1c2luZXNzLmNvbS9yZWdpb25hbC1uZXdzL3RoZS1hbWVyaWNhcy9sYXdhLXByb2hpYml0cy1zaW5nbGUtdXNlLXBsYXN0aWMtd2F0ZXItYm90dGxlLXNhbGVzLWFzLWl0LWxvb2tzLXRvLW1vcmUtc3VzdGFpbmFibGUtZnV0dXJlLzIzOTU3NdIBAA?oc=5\" target=\"_blank\">LAWA prohibits SUP water bottle sales as it looks to more ...</a>&nbsp;&nbsp;<font color=\"#6f6f6f\">TRBusiness</font>', 'date': '2023-07-25T11:45:00', 'source': 'TRBusiness', 'sentiment': [0.13636363636363635, 0.45454545454545453]}, {'title': 'willy-wonka-sup-1041008 | Northwest & National News ... - NBC Right Now', 'link': 'https://news.google.com/rss/articles/CBMibGh0dHBzOi8vd3d3Lm5iY3JpZ2h0bm93LmNvbS9uYXRpb25hbC93aWxseS13b25rYS1zdXAtMTA0MTAwOC9pbWFnZV80ODhjZmJlOS0zYWE0LTU3YWMtYjg5Mi0wYjE2YmRkOTAzYmUuaHRtbNIBAA?oc=5', 'description': '<a href=\"https://news.google.com/rss/articles/CBMibGh0dHBzOi8vd3d3Lm5iY3JpZ2h0bm93LmNvbS9uYXRpb25hbC93aWxseS13b25rYS1zdXAtMTA0MTAwOC9pbWFnZV80ODhjZmJlOS0zYWE0LTU3YWMtYjg5Mi0wYjE2YmRkOTAzYmUuaHRtbNIBAA?oc=5\" target=\"_blank\">willy-wonka-sup-1041008 | Northwest & National News ...</a>&nbsp;&nbsp;<font color=\"#6f6f6f\">NBC Right Now</font>', 'date': '2023-07-24T14:06:26', 'source': 'NBC Right Now', 'sentiment': [0.13636363636363635, 0.45454545454545453]}]}\n"
     ]
    }
   ],
   "source": [
    "import json\n",
    "def get_homepage(user: str):\n",
    "    home_endpoint = f'{server}/home'\n",
    "    response = requests.get(f'{home_endpoint}/{user}')\n",
    "    return json.loads(response.content)\n",
    "\n",
    "def summarize_homepage(homepage, search_terms):\n",
    "\n",
    "    for t in search_terms:\n",
    "        print(t)\n",
    "        for a in homepage[t]:\n",
    "            print(a[\"title\"])\n",
    "print(get_homepage(\"will\"))"
   ]
  },
  {
   "cell_type": "code",
   "execution_count": 74,
   "id": "1d1b5a53",
   "metadata": {},
   "outputs": [
    {
     "ename": "JSONDecodeError",
     "evalue": "Expecting value: line 1 column 1 (char 0)",
     "output_type": "error",
     "traceback": [
      "\u001b[0;31m---------------------------------------------------------------------------\u001b[0m",
      "\u001b[0;31mJSONDecodeError\u001b[0m                           Traceback (most recent call last)",
      "Cell \u001b[0;32mIn[74], line 12\u001b[0m\n\u001b[1;32m     10\u001b[0m endpoint \u001b[38;5;241m=\u001b[39m \u001b[38;5;124mf\u001b[39m\u001b[38;5;124m'\u001b[39m\u001b[38;5;132;01m{\u001b[39;00mhome_endpoint\u001b[38;5;132;01m}\u001b[39;00m\u001b[38;5;124m/\u001b[39m\u001b[38;5;132;01m{\u001b[39;00mnew_user\u001b[38;5;132;01m}\u001b[39;00m\u001b[38;5;124m'\u001b[39m\n\u001b[1;32m     11\u001b[0m response \u001b[38;5;241m=\u001b[39m requests\u001b[38;5;241m.\u001b[39mpost(endpoint, json\u001b[38;5;241m.\u001b[39mdumps(homepage_to_post))\n\u001b[0;32m---> 12\u001b[0m \u001b[38;5;28mprint\u001b[39m(\u001b[43mjson\u001b[49m\u001b[38;5;241;43m.\u001b[39;49m\u001b[43mloads\u001b[49m\u001b[43m(\u001b[49m\u001b[43mresponse\u001b[49m\u001b[38;5;241;43m.\u001b[39;49m\u001b[43mcontent\u001b[49m\u001b[43m)\u001b[49m)\n",
      "File \u001b[0;32m~/opt/anaconda3/envs/cs4992/lib/python3.9/json/__init__.py:346\u001b[0m, in \u001b[0;36mloads\u001b[0;34m(s, cls, object_hook, parse_float, parse_int, parse_constant, object_pairs_hook, **kw)\u001b[0m\n\u001b[1;32m    341\u001b[0m     s \u001b[38;5;241m=\u001b[39m s\u001b[38;5;241m.\u001b[39mdecode(detect_encoding(s), \u001b[38;5;124m'\u001b[39m\u001b[38;5;124msurrogatepass\u001b[39m\u001b[38;5;124m'\u001b[39m)\n\u001b[1;32m    343\u001b[0m \u001b[38;5;28;01mif\u001b[39;00m (\u001b[38;5;28mcls\u001b[39m \u001b[38;5;129;01mis\u001b[39;00m \u001b[38;5;28;01mNone\u001b[39;00m \u001b[38;5;129;01mand\u001b[39;00m object_hook \u001b[38;5;129;01mis\u001b[39;00m \u001b[38;5;28;01mNone\u001b[39;00m \u001b[38;5;129;01mand\u001b[39;00m\n\u001b[1;32m    344\u001b[0m         parse_int \u001b[38;5;129;01mis\u001b[39;00m \u001b[38;5;28;01mNone\u001b[39;00m \u001b[38;5;129;01mand\u001b[39;00m parse_float \u001b[38;5;129;01mis\u001b[39;00m \u001b[38;5;28;01mNone\u001b[39;00m \u001b[38;5;129;01mand\u001b[39;00m\n\u001b[1;32m    345\u001b[0m         parse_constant \u001b[38;5;129;01mis\u001b[39;00m \u001b[38;5;28;01mNone\u001b[39;00m \u001b[38;5;129;01mand\u001b[39;00m object_pairs_hook \u001b[38;5;129;01mis\u001b[39;00m \u001b[38;5;28;01mNone\u001b[39;00m \u001b[38;5;129;01mand\u001b[39;00m \u001b[38;5;129;01mnot\u001b[39;00m kw):\n\u001b[0;32m--> 346\u001b[0m     \u001b[38;5;28;01mreturn\u001b[39;00m \u001b[43m_default_decoder\u001b[49m\u001b[38;5;241;43m.\u001b[39;49m\u001b[43mdecode\u001b[49m\u001b[43m(\u001b[49m\u001b[43ms\u001b[49m\u001b[43m)\u001b[49m\n\u001b[1;32m    347\u001b[0m \u001b[38;5;28;01mif\u001b[39;00m \u001b[38;5;28mcls\u001b[39m \u001b[38;5;129;01mis\u001b[39;00m \u001b[38;5;28;01mNone\u001b[39;00m:\n\u001b[1;32m    348\u001b[0m     \u001b[38;5;28mcls\u001b[39m \u001b[38;5;241m=\u001b[39m JSONDecoder\n",
      "File \u001b[0;32m~/opt/anaconda3/envs/cs4992/lib/python3.9/json/decoder.py:337\u001b[0m, in \u001b[0;36mJSONDecoder.decode\u001b[0;34m(self, s, _w)\u001b[0m\n\u001b[1;32m    332\u001b[0m \u001b[38;5;28;01mdef\u001b[39;00m \u001b[38;5;21mdecode\u001b[39m(\u001b[38;5;28mself\u001b[39m, s, _w\u001b[38;5;241m=\u001b[39mWHITESPACE\u001b[38;5;241m.\u001b[39mmatch):\n\u001b[1;32m    333\u001b[0m \u001b[38;5;250m    \u001b[39m\u001b[38;5;124;03m\"\"\"Return the Python representation of ``s`` (a ``str`` instance\u001b[39;00m\n\u001b[1;32m    334\u001b[0m \u001b[38;5;124;03m    containing a JSON document).\u001b[39;00m\n\u001b[1;32m    335\u001b[0m \n\u001b[1;32m    336\u001b[0m \u001b[38;5;124;03m    \"\"\"\u001b[39;00m\n\u001b[0;32m--> 337\u001b[0m     obj, end \u001b[38;5;241m=\u001b[39m \u001b[38;5;28;43mself\u001b[39;49m\u001b[38;5;241;43m.\u001b[39;49m\u001b[43mraw_decode\u001b[49m\u001b[43m(\u001b[49m\u001b[43ms\u001b[49m\u001b[43m,\u001b[49m\u001b[43m \u001b[49m\u001b[43midx\u001b[49m\u001b[38;5;241;43m=\u001b[39;49m\u001b[43m_w\u001b[49m\u001b[43m(\u001b[49m\u001b[43ms\u001b[49m\u001b[43m,\u001b[49m\u001b[43m \u001b[49m\u001b[38;5;241;43m0\u001b[39;49m\u001b[43m)\u001b[49m\u001b[38;5;241;43m.\u001b[39;49m\u001b[43mend\u001b[49m\u001b[43m(\u001b[49m\u001b[43m)\u001b[49m\u001b[43m)\u001b[49m\n\u001b[1;32m    338\u001b[0m     end \u001b[38;5;241m=\u001b[39m _w(s, end)\u001b[38;5;241m.\u001b[39mend()\n\u001b[1;32m    339\u001b[0m     \u001b[38;5;28;01mif\u001b[39;00m end \u001b[38;5;241m!=\u001b[39m \u001b[38;5;28mlen\u001b[39m(s):\n",
      "File \u001b[0;32m~/opt/anaconda3/envs/cs4992/lib/python3.9/json/decoder.py:355\u001b[0m, in \u001b[0;36mJSONDecoder.raw_decode\u001b[0;34m(self, s, idx)\u001b[0m\n\u001b[1;32m    353\u001b[0m     obj, end \u001b[38;5;241m=\u001b[39m \u001b[38;5;28mself\u001b[39m\u001b[38;5;241m.\u001b[39mscan_once(s, idx)\n\u001b[1;32m    354\u001b[0m \u001b[38;5;28;01mexcept\u001b[39;00m \u001b[38;5;167;01mStopIteration\u001b[39;00m \u001b[38;5;28;01mas\u001b[39;00m err:\n\u001b[0;32m--> 355\u001b[0m     \u001b[38;5;28;01mraise\u001b[39;00m JSONDecodeError(\u001b[38;5;124m\"\u001b[39m\u001b[38;5;124mExpecting value\u001b[39m\u001b[38;5;124m\"\u001b[39m, s, err\u001b[38;5;241m.\u001b[39mvalue) \u001b[38;5;28;01mfrom\u001b[39;00m \u001b[38;5;28;01mNone\u001b[39;00m\n\u001b[1;32m    356\u001b[0m \u001b[38;5;28;01mreturn\u001b[39;00m obj, end\n",
      "\u001b[0;31mJSONDecodeError\u001b[0m: Expecting value: line 1 column 1 (char 0)"
     ]
    }
   ],
   "source": [
    "new_user = \"tyler\"\n",
    "northeastern_university_search = {\"term\": \"Northeastern University\",\n",
    "                                 \"days\": \"7\"}\n",
    "london_search = {\"term\": \"London\",\n",
    "                \"days\": \"3\"}\n",
    "homepage_to_post =  {\n",
    "        \"username\": new_user,\n",
    "        \"searches\": [northeastern_university_search, london_search] \n",
    "    }\n",
    "endpoint = f'{home_endpoint}/{new_user}'\n",
    "response = requests.post(endpoint, json.dumps(homepage_to_post))\n",
    "print(json.loads(response.content))"
   ]
  },
  {
   "cell_type": "code",
   "execution_count": 65,
   "id": "97972bca",
   "metadata": {},
   "outputs": [
    {
     "name": "stdout",
     "output_type": "stream",
     "text": [
      "{'Northeastern University': [{'title': 'Scholarships Help Afghan Students Find Homes at Universities Across US - Voice of America - VOA News', 'link': 'https://news.google.com/rss/articles/CBMibmh0dHBzOi8vd3d3LnZvYW5ld3MuY29tL2Evc2Nob2xhcnNoaXBzLWhlbHAtYWZnaGFuLXN0dWRlbnRzLWZpbmQtaG9tZXMtYXQtdW5pdmVyc2l0aWVzLWFjcm9zcy11cy0vNzE5MjM1OS5odG1s0gFwaHR0cHM6Ly93d3cudm9hbmV3cy5jb20vYW1wL3NjaG9sYXJzaGlwcy1oZWxwLWFmZ2hhbi1zdHVkZW50cy1maW5kLWhvbWVzLWF0LXVuaXZlcnNpdGllcy1hY3Jvc3MtdXMtLzcxOTIzNTkuaHRtbA?oc=5', 'description': '<a href=\"https://news.google.com/rss/articles/CBMibmh0dHBzOi8vd3d3LnZvYW5ld3MuY29tL2Evc2Nob2xhcnNoaXBzLWhlbHAtYWZnaGFuLXN0dWRlbnRzLWZpbmQtaG9tZXMtYXQtdW5pdmVyc2l0aWVzLWFjcm9zcy11cy0vNzE5MjM1OS5odG1s0gFwaHR0cHM6Ly93d3cudm9hbmV3cy5jb20vYW1wL3NjaG9sYXJzaGlwcy1oZWxwLWFmZ2hhbi1zdHVkZW50cy1maW5kLWhvbWVzLWF0LXVuaXZlcnNpdGllcy1hY3Jvc3MtdXMtLzcxOTIzNTkuaHRtbA?oc=5\" target=\"_blank\">Scholarships Help Afghan Students Find Homes at Universities Across US</a>&nbsp;&nbsp;<font color=\"#6f6f6f\">Voice of America - VOA News</font>', 'date': '2023-07-23T05:51:04', 'source': 'Voice of America - VOA News', 'sentiment': [0.13636363636363635, 0.45454545454545453]}, {'title': 'Scholarships in U.S. help Afghan women - Arkansas Online', 'link': 'https://news.google.com/rss/articles/CBMiVWh0dHBzOi8vd3d3LmFya2Fuc2Fzb25saW5lLmNvbS9uZXdzLzIwMjMvanVsLzI0L3NjaG9sYXJzaGlwcy1pbi11cy1oZWxwLWFmZ2hhbi13b21lbi_SAQA?oc=5', 'description': '<a href=\"https://news.google.com/rss/articles/CBMiVWh0dHBzOi8vd3d3LmFya2Fuc2Fzb25saW5lLmNvbS9uZXdzLzIwMjMvanVsLzI0L3NjaG9sYXJzaGlwcy1pbi11cy1oZWxwLWFmZ2hhbi13b21lbi_SAQA?oc=5\" target=\"_blank\">Scholarships in U.S. help Afghan women</a>&nbsp;&nbsp;<font color=\"#6f6f6f\">Arkansas Online</font>', 'date': '2023-07-24T10:25:15', 'source': 'Arkansas Online', 'sentiment': [0.13636363636363635, 0.45454545454545453]}], 'London': [{'title': \"Jury out in actor Kevin Spacey's London sexual offences trial - Reuters\", 'link': 'https://news.google.com/rss/articles/CBMiZmh0dHBzOi8vd3d3LnJldXRlcnMuY29tL3dvcmxkL3VrL2p1cnktb3V0LWFjdG9yLWtldmluLXNwYWNleXMtbG9uZG9uLXNleHVhbC1vZmZlbmNlcy10cmlhbC0yMDIzLTA3LTI0L9IBAA?oc=5', 'description': '<a href=\"https://news.google.com/rss/articles/CBMiZmh0dHBzOi8vd3d3LnJldXRlcnMuY29tL3dvcmxkL3VrL2p1cnktb3V0LWFjdG9yLWtldmluLXNwYWNleXMtbG9uZG9uLXNleHVhbC1vZmZlbmNlcy10cmlhbC0yMDIzLTA3LTI0L9IBAA?oc=5\" target=\"_blank\">Jury out in actor Kevin Spacey\\'s London sexual offences trial</a>&nbsp;&nbsp;<font color=\"#6f6f6f\">Reuters</font>', 'date': '2023-07-24T20:26:00', 'source': 'Reuters', 'sentiment': [0.13636363636363635, 0.45454545454545453]}, {'title': 'Jury deliberates in Kevin Spacey’s sexual assault trial in London - Boston News, Weather, Sports | WHDH 7News', 'link': 'https://news.google.com/rss/articles/CBMiV2h0dHBzOi8vd2hkaC5jb20vbmV3cy9qdXJ5LWRlbGliZXJhdGVzLWluLWtldmluLXNwYWNleXMtc2V4dWFsLWFzc2F1bHQtdHJpYWwtaW4tbG9uZG9uL9IBW2h0dHBzOi8vd2hkaC5jb20vbmV3cy9qdXJ5LWRlbGliZXJhdGVzLWluLWtldmluLXNwYWNleXMtc2V4dWFsLWFzc2F1bHQtdHJpYWwtaW4tbG9uZG9uL2FtcC8?oc=5', 'description': '<a href=\"https://news.google.com/rss/articles/CBMiV2h0dHBzOi8vd2hkaC5jb20vbmV3cy9qdXJ5LWRlbGliZXJhdGVzLWluLWtldmluLXNwYWNleXMtc2V4dWFsLWFzc2F1bHQtdHJpYWwtaW4tbG9uZG9uL9IBW2h0dHBzOi8vd2hkaC5jb20vbmV3cy9qdXJ5LWRlbGliZXJhdGVzLWluLWtldmluLXNwYWNleXMtc2V4dWFsLWFzc2F1bHQtdHJpYWwtaW4tbG9uZG9uL2FtcC8?oc=5\" target=\"_blank\">Jury deliberates in Kevin Spacey’s sexual assault trial in London</a>&nbsp;&nbsp;<font color=\"#6f6f6f\">Boston News, Weather, Sports | WHDH 7News</font>', 'date': '2023-07-24T14:35:34', 'source': 'Boston News, Weather, Sports | WHDH 7News', 'sentiment': [0.13636363636363635, 0.45454545454545453]}]}\n"
     ]
    }
   ],
   "source": [
    "tyler_homepage = get_homepage(new_user)\n",
    "print(tyler_homepage)"
   ]
  },
  {
   "cell_type": "code",
   "execution_count": 67,
   "id": "ca9f4960",
   "metadata": {},
   "outputs": [
    {
     "name": "stdout",
     "output_type": "stream",
     "text": [
      "Northeastern University\n",
      "Scholarships Help Afghan Students Find Homes at Universities Across US - Voice of America - VOA News\n",
      "Scholarships in U.S. help Afghan women - Arkansas Online\n",
      "London\n",
      "Jury out in actor Kevin Spacey's London sexual offences trial - Reuters\n",
      "Jury deliberates in Kevin Spacey’s sexual assault trial in London - Boston News, Weather, Sports | WHDH 7News\n"
     ]
    }
   ],
   "source": [
    "search_terms = [\"Northeastern University\", \"London\"]\n",
    "\n",
    "summarize_homepage(tyler_homepage, search_terms)\n"
   ]
  },
  {
   "cell_type": "code",
   "execution_count": null,
   "id": "1d7d41c8",
   "metadata": {},
   "outputs": [],
   "source": []
  }
 ],
 "metadata": {
  "kernelspec": {
   "display_name": "Python 3 (ipykernel)",
   "language": "python",
   "name": "python3"
  },
  "language_info": {
   "codemirror_mode": {
    "name": "ipython",
    "version": 3
   },
   "file_extension": ".py",
   "mimetype": "text/x-python",
   "name": "python",
   "nbconvert_exporter": "python",
   "pygments_lexer": "ipython3",
   "version": "3.9.17"
  }
 },
 "nbformat": 4,
 "nbformat_minor": 5
}
